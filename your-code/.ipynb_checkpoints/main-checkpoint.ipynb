{
 "cells": [
  {
   "cell_type": "markdown",
   "metadata": {},
   "source": [
    "# Web Scraping Lab\n",
    "\n",
    "You will find in this notebook some scrapy exercises to practise your scraping skills.\n",
    "\n",
    "**Tips:**\n",
    "\n",
    "- Check the response status code for each request to ensure you have obtained the intended contennt.\n",
    "- Print the response text in each request to understand the kind of info you are getting and its format.\n",
    "- Check for patterns in the response text to extract the data/info requested in each question.\n",
    "- Visit each url and take a look at its source through Chrome DevTools. You'll need to identify the html tags, special class names etc. used for the html content you are expected to extract."
   ]
  },
  {
   "cell_type": "markdown",
   "metadata": {},
   "source": [
    "- [Requests library](http://docs.python-requests.org/en/master/#the-user-guide) documentation \n",
    "- [Beautiful Soup Doc](https://www.crummy.com/software/BeautifulSoup/bs4/doc/)\n",
    "- [Urllib](https://docs.python.org/3/library/urllib.html#module-urllib)\n",
    "- [re lib](https://docs.python.org/3/library/re.html)\n",
    "- [lxml lib](https://lxml.de/)\n",
    "- [Scrapy](https://scrapy.org/)\n",
    "- [List of HTTP status codes](https://en.wikipedia.org/wiki/List_of_HTTP_status_codes)\n",
    "- [HTML basics](http://www.simplehtmlguide.com/cheatsheet.php)\n",
    "- [CSS basics](https://www.cssbasics.com/#page_start)"
   ]
  },
  {
   "cell_type": "markdown",
   "metadata": {},
   "source": [
    "#### Below are the libraries and modules you may need. `requests`,  `BeautifulSoup` and `pandas` are imported for you. If you prefer to use additional libraries feel free to uncomment them."
   ]
  },
  {
   "cell_type": "code",
   "execution_count": 1,
   "metadata": {},
   "outputs": [],
   "source": [
    "import requests\n",
    "from bs4 import BeautifulSoup\n",
    "import pandas as pd\n",
    "# from pprint import pprint\n",
    "# from lxml import html\n",
    "# from lxml.html import fromstring\n",
    "# import urllib.request\n",
    "# from urllib.request import urlopen\n",
    "# import random\n",
    "import re\n",
    "# import scrapy"
   ]
  },
  {
   "cell_type": "code",
   "execution_count": 6,
   "metadata": {},
   "outputs": [],
   "source": [
    "import urllib3\n",
    "urllib3.disable_warnings(urllib3.exceptions.InsecureRequestWarning)"
   ]
  },
  {
   "cell_type": "markdown",
   "metadata": {},
   "source": [
    "#### Download, parse (using BeautifulSoup), and print the content from the Trending Developers page from GitHub:"
   ]
  },
  {
   "cell_type": "code",
   "execution_count": 125,
   "metadata": {},
   "outputs": [],
   "source": [
    "# This is the url you will scrape in this exercise\n",
    "url = 'https://github.com/trending/developers'"
   ]
  },
  {
   "cell_type": "code",
   "execution_count": 126,
   "metadata": {},
   "outputs": [],
   "source": [
    "#your code\n",
    "parsed_devs = BeautifulSoup(requests.get(url, verify = False).content)"
   ]
  },
  {
   "cell_type": "markdown",
   "metadata": {},
   "source": [
    "#### Display the names of the trending developers retrieved in the previous step.\n",
    "\n",
    "Your output should be a Python list of developer names. Each name should not contain any html tag.\n",
    "\n",
    "**Instructions:**\n",
    "\n",
    "1. Find out the html tag and class names used for the developer names. You can achieve this using Chrome DevTools.\n",
    "\n",
    "1. Use BeautifulSoup to extract all the html elements that contain the developer names.\n",
    "\n",
    "1. Use string manipulation techniques to replace whitespaces and linebreaks (i.e. `\\n`) in the *text* of each html element. Use a list to store the clean names.\n",
    "\n",
    "1. Print the list of names.\n",
    "\n",
    "Your output should look like below:\n",
    "\n",
    "```\n",
    "['trimstray (@trimstray)',\n",
    " 'joewalnes (JoeWalnes)',\n",
    " 'charlax (Charles-AxelDein)',\n",
    " 'ForrestKnight (ForrestKnight)',\n",
    " 'revery-ui (revery-ui)',\n",
    " 'alibaba (Alibaba)',\n",
    " 'Microsoft (Microsoft)',\n",
    " 'github (GitHub)',\n",
    " 'facebook (Facebook)',\n",
    " 'boazsegev (Bo)',\n",
    " 'google (Google)',\n",
    " 'cloudfetch',\n",
    " 'sindresorhus (SindreSorhus)',\n",
    " 'tensorflow',\n",
    " 'apache (TheApacheSoftwareFoundation)',\n",
    " 'DevonCrawford (DevonCrawford)',\n",
    " 'ARMmbed (ArmMbed)',\n",
    " 'vuejs (vuejs)',\n",
    " 'fastai (fast.ai)',\n",
    " 'QiShaoXuan (Qi)',\n",
    " 'joelparkerhenderson (JoelParkerHenderson)',\n",
    " 'torvalds (LinusTorvalds)',\n",
    " 'CyC2018',\n",
    " 'komeiji-satori (神楽坂覚々)',\n",
    " 'script-8']\n",
    " ```"
   ]
  },
  {
   "cell_type": "code",
   "execution_count": 127,
   "metadata": {},
   "outputs": [],
   "source": [
    "#your code\n",
    "dirty_text = [i.text for i in parsed_devs.find_all(['a', {'class':'link-gray'}])][570:721]\n",
    "dirty_text.remove('\\n\\nSponsor\\n')"
   ]
  },
  {
   "cell_type": "code",
   "execution_count": 128,
   "metadata": {},
   "outputs": [
    {
     "data": {
      "text/plain": [
       "['Eric Ma (ericmjl)',\n",
       " 'Federico Brigante (bfred-it)',\n",
       " 'Kyle Roach (iRoachie)',\n",
       " 'Olle Jonsson (olleolleolle)',\n",
       " 'Nikita Sobolev (sobolevn)',\n",
       " 'Frank S. Thomas (fthomas)',\n",
       " 'syuilo (syuilo)',\n",
       " 'Ives van Hoorne (CompuIves)',\n",
       " 'Paulus Schoutsen (balloob)',\n",
       " 'Sarah Drasner (sdras)',\n",
       " 'Stefanos Kornilios Mitsis Poiitidis (skmp)',\n",
       " 'Jan Hovancik (hovancik)',\n",
       " 'Andreas Mueller (amueller)',\n",
       " 'Guillaume Gomez (GuillaumeGomez)',\n",
       " 'Matt Holt (mholt)',\n",
       " 'Clifford Wolf (cliffordwolf)',\n",
       " 'Franck Nijhof (frenck)',\n",
       " 'Joe Block (unixorn)',\n",
       " 'Andrei Neagoie (aneagoie)',\n",
       " 'Jack Lloyd (randombit)',\n",
       " 'Guillermo Rauch (rauchg)',\n",
       " 'Tim Griesser (tgriesser)',\n",
       " 'Jameson Nash (vtjnash)',\n",
       " 'Anderson Banihirwe (andersy005)',\n",
       " 'Danny Ryan (djrtwo)']"
      ]
     },
     "execution_count": 128,
     "metadata": {},
     "output_type": "execute_result"
    }
   ],
   "source": [
    "[name[0]+f' ({name[1]})' for name in [pair for pair in list(zip(dirty_text[0::2],dirty_text[1::2])) if not '\\n' in pair[0]]]"
   ]
  },
  {
   "cell_type": "markdown",
   "metadata": {},
   "source": [
    "#### Display the trending Python repositories in GitHub\n",
    "\n",
    "The steps to solve this problem is similar to the previous one except that you need to find out the repository names instead of developer names."
   ]
  },
  {
   "cell_type": "code",
   "execution_count": 130,
   "metadata": {},
   "outputs": [],
   "source": [
    "# This is the url you will scrape in this exercise\n",
    "url = 'https://github.com/trending/python?since=daily'"
   ]
  },
  {
   "cell_type": "code",
   "execution_count": 131,
   "metadata": {},
   "outputs": [],
   "source": [
    "#your code\n",
    "parsed_repos = BeautifulSoup(requests.get(url, verify = False).content)"
   ]
  },
  {
   "cell_type": "code",
   "execution_count": 132,
   "metadata": {},
   "outputs": [],
   "source": [
    "repositories = parsed_repos.find_all('span', {'class':'text-normal'},'a')[7:]"
   ]
  },
  {
   "cell_type": "code",
   "execution_count": 133,
   "metadata": {},
   "outputs": [
    {
     "data": {
      "text/plain": [
       "['sherlock-project / sherlock',\n",
       " 'j3ssie / Osmedeus',\n",
       " 'ytdl-org / youtube-dl',\n",
       " 'uber / ludwig',\n",
       " 'tkat0 / PyTorch_BlazeFace',\n",
       " 'Kyubyong / dc_tts',\n",
       " 'gto76 / python-cheatsheet',\n",
       " 'bbfamily / abu',\n",
       " 'DrDonk / unlocker',\n",
       " 'BlackHC / tfpyth',\n",
       " 'sundowndev / PhoneInfoga',\n",
       " 'public-apis / public-apis',\n",
       " 'twintproject / twint',\n",
       " 'liuhuanyong / QASystemOnMedicalKG',\n",
       " 'vaexio / vaex',\n",
       " 'MrS0m30n3 / youtube-dl-gui',\n",
       " 'MozillaSecurity / grizzly',\n",
       " 'scikit-learn / scikit-learn',\n",
       " 'bitcoin / bips',\n",
       " 'xinshuoweng / AB3DMOT',\n",
       " 'smartHomeHub / SmartIR',\n",
       " 'sfyc23 / EverydayWechat',\n",
       " 'home-assistant / home-assistant',\n",
       " 'msgi / nlp-journey',\n",
       " 'gunthercox / ChatterBot']"
      ]
     },
     "execution_count": 133,
     "metadata": {},
     "output_type": "execute_result"
    }
   ],
   "source": [
    "[repo.text+repo.next_sibling.string.replace('\\n','') for repo in repositories]"
   ]
  },
  {
   "cell_type": "markdown",
   "metadata": {},
   "source": [
    "#### Display all the image links from Walt Disney wikipedia page"
   ]
  },
  {
   "cell_type": "code",
   "execution_count": 95,
   "metadata": {},
   "outputs": [],
   "source": [
    "# This is the url you will scrape in this exercise\n",
    "url = 'https://en.wikipedia.org/wiki/Walt_Disney'"
   ]
  },
  {
   "cell_type": "code",
   "execution_count": 134,
   "metadata": {},
   "outputs": [],
   "source": [
    "#your code\n",
    "parsed_wiki = BeautifulSoup(requests.get(url, verify = False).content)"
   ]
  },
  {
   "cell_type": "code",
   "execution_count": 104,
   "metadata": {},
   "outputs": [
    {
     "data": {
      "text/plain": [
       "['//upload.wikimedia.org/wikipedia/en/thumb/e/e7/Cscr-featured.svg/20px-Cscr-featured.svg.png',\n",
       " '//upload.wikimedia.org/wikipedia/en/thumb/1/1b/Semi-protection-shackle.svg/20px-Semi-protection-shackle.svg.png',\n",
       " '//upload.wikimedia.org/wikipedia/commons/thumb/d/df/Walt_Disney_1946.JPG/220px-Walt_Disney_1946.JPG',\n",
       " '//upload.wikimedia.org/wikipedia/commons/thumb/8/87/Walt_Disney_1942_signature.svg/150px-Walt_Disney_1942_signature.svg.png',\n",
       " '//upload.wikimedia.org/wikipedia/commons/thumb/c/c4/Walt_Disney_envelope_ca._1921.jpg/220px-Walt_Disney_envelope_ca._1921.jpg',\n",
       " '//upload.wikimedia.org/wikipedia/commons/thumb/4/4d/Newman_Laugh-O-Gram_%281921%29.webm/220px-seek%3D2-Newman_Laugh-O-Gram_%281921%29.webm.jpg',\n",
       " '//upload.wikimedia.org/wikipedia/commons/thumb/0/0d/Trolley_Troubles_poster.jpg/170px-Trolley_Troubles_poster.jpg',\n",
       " '//upload.wikimedia.org/wikipedia/commons/thumb/7/71/Walt_Disney_and_his_cartoon_creation_%22Mickey_Mouse%22_-_National_Board_of_Review_Magazine.jpg/170px-Walt_Disney_and_his_cartoon_creation_%22Mickey_Mouse%22_-_National_Board_of_Review_Magazine.jpg',\n",
       " '//upload.wikimedia.org/wikipedia/en/thumb/4/4e/Steamboat-willie.jpg/170px-Steamboat-willie.jpg',\n",
       " '//upload.wikimedia.org/wikipedia/commons/thumb/5/57/Walt_Disney_1935.jpg/170px-Walt_Disney_1935.jpg',\n",
       " '//upload.wikimedia.org/wikipedia/commons/thumb/c/cd/Walt_Disney_Snow_white_1937_trailer_screenshot_%2813%29.jpg/220px-Walt_Disney_Snow_white_1937_trailer_screenshot_%2813%29.jpg',\n",
       " '//upload.wikimedia.org/wikipedia/commons/thumb/1/15/Disney_drawing_goofy.jpg/170px-Disney_drawing_goofy.jpg',\n",
       " '//upload.wikimedia.org/wikipedia/commons/thumb/1/13/DisneySchiphol1951.jpg/220px-DisneySchiphol1951.jpg',\n",
       " '//upload.wikimedia.org/wikipedia/commons/thumb/8/8c/WaltDisneyplansDisneylandDec1954.jpg/220px-WaltDisneyplansDisneylandDec1954.jpg',\n",
       " '//upload.wikimedia.org/wikipedia/commons/thumb/f/ff/Walt_disney_portrait_right.jpg/170px-Walt_disney_portrait_right.jpg',\n",
       " '//upload.wikimedia.org/wikipedia/commons/thumb/1/1a/Walt_Disney_Grave.JPG/170px-Walt_Disney_Grave.JPG',\n",
       " '//upload.wikimedia.org/wikipedia/commons/thumb/2/2d/Roy_O._Disney_with_Company_at_Press_Conference.jpg/170px-Roy_O._Disney_with_Company_at_Press_Conference.jpg',\n",
       " '//upload.wikimedia.org/wikipedia/commons/thumb/a/a9/Disney_Display_Case.JPG/170px-Disney_Display_Case.JPG',\n",
       " '//upload.wikimedia.org/wikipedia/commons/thumb/6/6c/Disney1968.jpg/170px-Disney1968.jpg',\n",
       " '//upload.wikimedia.org/wikipedia/en/thumb/8/8a/OOjs_UI_icon_edit-ltr-progressive.svg/10px-OOjs_UI_icon_edit-ltr-progressive.svg.png',\n",
       " '//upload.wikimedia.org/wikipedia/commons/thumb/d/da/Animation_disc.svg/30px-Animation_disc.svg.png',\n",
       " '//upload.wikimedia.org/wikipedia/en/thumb/6/69/P_vip.svg/29px-P_vip.svg.png',\n",
       " '//upload.wikimedia.org/wikipedia/commons/thumb/1/1a/Magic_Kingdom_castle.jpg/24px-Magic_Kingdom_castle.jpg',\n",
       " '//upload.wikimedia.org/wikipedia/en/thumb/e/e7/Video-x-generic.svg/30px-Video-x-generic.svg.png',\n",
       " '//upload.wikimedia.org/wikipedia/commons/thumb/a/a3/Flag_of_Los_Angeles_County%2C_California.svg/30px-Flag_of_Los_Angeles_County%2C_California.svg.png',\n",
       " '//upload.wikimedia.org/wikipedia/commons/thumb/a/a3/USA_flag_on_television.svg/30px-USA_flag_on_television.svg.png',\n",
       " '//upload.wikimedia.org/wikipedia/en/thumb/4/4a/Commons-logo.svg/22px-Commons-logo.svg.png',\n",
       " '//upload.wikimedia.org/wikipedia/commons/thumb/f/fa/Wikiquote-logo.svg/25px-Wikiquote-logo.svg.png',\n",
       " '//upload.wikimedia.org/wikipedia/commons/thumb/f/ff/Wikidata-logo.svg/30px-Wikidata-logo.svg.png',\n",
       " '//upload.wikimedia.org/wikipedia/en/thumb/8/8a/OOjs_UI_icon_edit-ltr-progressive.svg/10px-OOjs_UI_icon_edit-ltr-progressive.svg.png',\n",
       " '//en.wikipedia.org/wiki/Special:CentralAutoLogin/start?type=1x1',\n",
       " '/static/images/wikimedia-button.png',\n",
       " '/static/images/poweredby_mediawiki_88x31.png']"
      ]
     },
     "execution_count": 104,
     "metadata": {},
     "output_type": "execute_result"
    }
   ],
   "source": [
    "[img['src'] for img in parsed_wiki.find_all('img')]"
   ]
  },
  {
   "cell_type": "markdown",
   "metadata": {},
   "source": [
    "#### Retrieve an arbitary Wikipedia page of \"Python\" and create a list of links on that page"
   ]
  },
  {
   "cell_type": "code",
   "execution_count": 106,
   "metadata": {},
   "outputs": [],
   "source": [
    "# This is the url you will scrape in this exercise\n",
    "url ='https://en.wikipedia.org/wiki/Python_(mythology)' "
   ]
  },
  {
   "cell_type": "code",
   "execution_count": 135,
   "metadata": {},
   "outputs": [],
   "source": [
    "#your code\n",
    "parsed_python = BeautifulSoup(requests.get(url, verify = False).content)"
   ]
  },
  {
   "cell_type": "code",
   "execution_count": 116,
   "metadata": {},
   "outputs": [
    {
     "data": {
      "text/plain": [
       "['/w/load.php?lang=en&modules=ext.3d.styles%7Cext.cite.styles%7Cext.uls.interlanguage%7Cext.visualEditor.desktopArticleTarget.noscript%7Cext.wikimediaBadges%7Cmediawiki.legacy.commonPrint%2Cshared%7Cmediawiki.skinning.interface%7Cmediawiki.toc.styles%7Cskins.vector.styles%7Cwikibase.client.init&only=styles&skin=vector',\n",
       " '/w/load.php?lang=en&modules=ext.gadget.charinsert-styles&only=styles&skin=vector',\n",
       " '/w/load.php?lang=en&modules=site.styles&only=styles&skin=vector',\n",
       " 'android-app://org.wikipedia/http/en.m.wikipedia.org/wiki/Python_(mythology)',\n",
       " '/w/index.php?title=Python_(mythology)&action=edit',\n",
       " '/w/index.php?title=Python_(mythology)&action=edit',\n",
       " '/static/apple-touch/wikipedia.png',\n",
       " '/static/favicon/wikipedia.ico',\n",
       " '/w/opensearch_desc.php',\n",
       " '//en.wikipedia.org/w/api.php?action=rsd',\n",
       " '//creativecommons.org/licenses/by-sa/3.0/',\n",
       " 'https://en.wikipedia.org/wiki/Python_(mythology)',\n",
       " '//login.wikimedia.org',\n",
       " '//meta.wikimedia.org',\n",
       " '//searchawesome.net/css/cdn/min_search_engine_v2.css?wv=1.00434',\n",
       " '#mw-head',\n",
       " '#p-search',\n",
       " '/wiki/Pythia',\n",
       " '/wiki/File:Apollo_dan_Pithon.jpg',\n",
       " '/wiki/File:Apollo_dan_Pithon.jpg',\n",
       " '/wiki/Apollo',\n",
       " '/wiki/Virgil_Solis',\n",
       " '/wiki/Ovid',\n",
       " '/wiki/Metamorphoses',\n",
       " '/wiki/Greek_mythology',\n",
       " '/wiki/Greek_language',\n",
       " '/wiki/Genitive_case',\n",
       " '/wiki/Serpent_(symbolism)',\n",
       " '/wiki/Medieval',\n",
       " '/wiki/Dragon',\n",
       " '/wiki/Earth',\n",
       " '/wiki/Delphi',\n",
       " '#Mythology',\n",
       " '#Versions_and_interpretations',\n",
       " '#See_also',\n",
       " '#Notes',\n",
       " '#References',\n",
       " '/w/index.php?title=Python_(mythology)&action=edit&section=1',\n",
       " '/wiki/Oracle',\n",
       " '/wiki/Gaia_(mythology)',\n",
       " '#cite_note-1',\n",
       " '/wiki/Axis_mundi#Places',\n",
       " '/wiki/Omphalos',\n",
       " '/wiki/Chthonic',\n",
       " '/wiki/Apollo',\n",
       " '#cite_note-2',\n",
       " '/w/index.php?title=Python_(mythology)&action=edit&section=2',\n",
       " '/wiki/File:Pietro_Francavilla_-_Apollo_Victorious_over_the_Python_-_Walters_27302.jpg',\n",
       " '/wiki/File:Pietro_Francavilla_-_Apollo_Victorious_over_the_Python_-_Walters_27302.jpg',\n",
       " '#cite_note-3',\n",
       " '/wiki/Homeric_Hymn',\n",
       " '#cite_note-4',\n",
       " '/wiki/Drakaina_(mythology)',\n",
       " '/wiki/Gaius_Julius_Hyginus',\n",
       " '#cite_note-5',\n",
       " '/wiki/Zeus',\n",
       " '/wiki/Leto',\n",
       " '/wiki/Artemis',\n",
       " '/wiki/Apollo',\n",
       " '/wiki/Hera',\n",
       " '/wiki/Mount_Parnassus',\n",
       " '/wiki/Gaia_(mythology)',\n",
       " '/wiki/Robert_Graves',\n",
       " '/wiki/Greeks',\n",
       " '/wiki/Sacrilege',\n",
       " '/wiki/Pythian_Games',\n",
       " '/wiki/Erwin_Rohde',\n",
       " '/wiki/Omphalos',\n",
       " '#cite_note-6',\n",
       " '/wiki/Oracle',\n",
       " '/wiki/Delphi',\n",
       " '/wiki/Hyperion_(mythology)',\n",
       " '/wiki/Helios',\n",
       " '#cite_note-7',\n",
       " '/wiki/Karl_Kerenyi',\n",
       " '#cite_note-8',\n",
       " '/wiki/Delphyne',\n",
       " '/wiki/Typhon',\n",
       " '/wiki/Typhoeus',\n",
       " '/wiki/Pythia',\n",
       " '/wiki/Omphalos',\n",
       " '#cite_note-9',\n",
       " '/w/index.php?title=Python_(mythology)&action=edit&section=3',\n",
       " '/wiki/Python_(genus)',\n",
       " '/wiki/Pythonidae',\n",
       " '/wiki/File:Barcelona_221.JPG',\n",
       " '/wiki/File:Barcelona_221.JPG',\n",
       " '/wiki/Apollo_Belvedere',\n",
       " '/wiki/Delphi',\n",
       " '/wiki/Dragons_in_Greek_mythology',\n",
       " '/wiki/Pythia',\n",
       " '/wiki/Serpent_(symbolism)',\n",
       " '/wiki/Saint_George_and_the_Dragon',\n",
       " '/wiki/Analogy_of_the_sun',\n",
       " '/wiki/Yamata_no_Orochi',\n",
       " '/w/index.php?title=Python_(mythology)&action=edit&section=4',\n",
       " '#cite_ref-1',\n",
       " '/wiki/Telphousa',\n",
       " '/wiki/Parnassus',\n",
       " '#cite_ref-2',\n",
       " '/wiki/Dodona',\n",
       " '#cite_ref-3',\n",
       " 'http://art.thewalters.org/detail/7866',\n",
       " '/wiki/The_Walters_Art_Museum',\n",
       " '#cite_ref-4',\n",
       " '/wiki/Walter_Burkert',\n",
       " '#cite_ref-5',\n",
       " '#cite_ref-6',\n",
       " '#cite_ref-7',\n",
       " '#cite_ref-8',\n",
       " '#cite_ref-9',\n",
       " 'https://en.wikisource.org/wiki/The_Encyclopedia_Americana_(1920)/Python_(mythology)',\n",
       " '/wiki/Encyclopedia_Americana',\n",
       " 'mw-data:TemplateStyles:r886058088',\n",
       " '/w/index.php?title=Python_(mythology)&action=edit&section=5',\n",
       " 'https://commons.wikimedia.org/wiki/Category:Python_(mythology)',\n",
       " '/wiki/Wikisource',\n",
       " '/wiki/Encyclop%C3%A6dia_Britannica_Eleventh_Edition',\n",
       " 'https://en.wikisource.org/wiki/1911_Encyclop%C3%A6dia_Britannica/Python_(mythology)',\n",
       " '/wiki/Walter_Burkert',\n",
       " 'http://www.sacred-texts.com/etc/wos/wos08.htm#page_329',\n",
       " 'http://www.sacred-texts.com/etc/wos/',\n",
       " '/wiki/Joseph_Fontenrose',\n",
       " '/wiki/Manly_Palmer_Hall',\n",
       " 'http://www.sacred-texts.com/eso/sta/sta14.htm',\n",
       " 'http://www.sacred-texts.com/eso/sta/index.htm',\n",
       " 'http://www.prs.org/secret.htm',\n",
       " '/wiki/Jane_Ellen_Harrison',\n",
       " '/wiki/Karl_Kerenyi',\n",
       " 'https://www.lib.uchicago.edu/cgi-bin/eos/eos_page.pl?DPI=100&callnum=BL781.H32&object=454',\n",
       " 'https://www.lib.uchicago.edu/cgi-bin/eos/eos_title.pl?callnum=BL781.H32',\n",
       " 'http://mcllibrary.org/Hesiod/hymns.html',\n",
       " '/wiki/Erwin_Rohde',\n",
       " '/wiki/William_Smith_(lexicographer)',\n",
       " '/wiki/Dictionary_of_Greek_and_Roman_Biography_and_Mythology',\n",
       " 'http://www.perseus.tufts.edu/hopper/text?doc=Perseus%3Atext%3A1999.04.0104%3Aalphabetic+letter%3DP%3Aentry+group%3D52%3Aentry%3Dpython-bio-1',\n",
       " '/wiki/Help:Authority_control',\n",
       " 'https://www.wikidata.org/wiki/Q15721',\n",
       " '/wiki/Integrated_Authority_File',\n",
       " 'https://d-nb.info/gnd/118793772',\n",
       " '/wiki/Syst%C3%A8me_universitaire_de_documentation',\n",
       " 'https://www.idref.fr/164184724',\n",
       " '/wiki/Virtual_International_Authority_File',\n",
       " 'https://viaf.org/viaf/54944536',\n",
       " '/wiki/WorldCat_Identities',\n",
       " 'https://www.worldcat.org/identities/containsVIAFID/54944536',\n",
       " 'https://en.wikipedia.org/w/index.php?title=Python_(mythology)&oldid=900434819',\n",
       " '/wiki/Help:Category',\n",
       " '/wiki/Category:Ancient_Delphi',\n",
       " '/wiki/Category:Offspring_of_Gaia',\n",
       " '/wiki/Category:Greek_dragons',\n",
       " '/wiki/Category:Wikipedia_articles_incorporating_a_citation_from_the_Encyclopedia_Americana_with_a_Wikisource_reference',\n",
       " '/wiki/Category:Articles_containing_Greek-language_text',\n",
       " '/wiki/Category:Commons_category_link_is_on_Wikidata',\n",
       " '/wiki/Category:Wikipedia_articles_with_GND_identifiers',\n",
       " '/wiki/Category:Wikipedia_articles_with_SUDOC_identifiers',\n",
       " '/wiki/Category:Wikipedia_articles_with_VIAF_identifiers',\n",
       " '/wiki/Category:Wikipedia_articles_with_WorldCat-VIAF_identifiers',\n",
       " '/wiki/Special:MyTalk',\n",
       " '/wiki/Special:MyContributions',\n",
       " '/w/index.php?title=Special:CreateAccount&returnto=Python+%28mythology%29',\n",
       " '/w/index.php?title=Special:UserLogin&returnto=Python+%28mythology%29',\n",
       " '/wiki/Python_(mythology)',\n",
       " '/wiki/Talk:Python_(mythology)',\n",
       " '/wiki/Python_(mythology)',\n",
       " '/w/index.php?title=Python_(mythology)&action=edit',\n",
       " '/w/index.php?title=Python_(mythology)&action=history',\n",
       " '/wiki/Main_Page',\n",
       " '/wiki/Main_Page',\n",
       " '/wiki/Portal:Contents',\n",
       " '/wiki/Portal:Featured_content',\n",
       " '/wiki/Portal:Current_events',\n",
       " '/wiki/Special:Random',\n",
       " 'https://donate.wikimedia.org/wiki/Special:FundraiserRedirector?utm_source=donate&utm_medium=sidebar&utm_campaign=C13_en.wikipedia.org&uselang=en',\n",
       " '//shop.wikimedia.org',\n",
       " '/wiki/Help:Contents',\n",
       " '/wiki/Wikipedia:About',\n",
       " '/wiki/Wikipedia:Community_portal',\n",
       " '/wiki/Special:RecentChanges',\n",
       " '//en.wikipedia.org/wiki/Wikipedia:Contact_us',\n",
       " '/wiki/Special:WhatLinksHere/Python_(mythology)',\n",
       " '/wiki/Special:RecentChangesLinked/Python_(mythology)',\n",
       " '/wiki/Wikipedia:File_Upload_Wizard',\n",
       " '/wiki/Special:SpecialPages',\n",
       " '/w/index.php?title=Python_(mythology)&oldid=900434819',\n",
       " '/w/index.php?title=Python_(mythology)&action=info',\n",
       " 'https://www.wikidata.org/wiki/Special:EntityPage/Q15721',\n",
       " '/w/index.php?title=Special:CiteThisPage&page=Python_%28mythology%29&id=900434819',\n",
       " 'https://commons.wikimedia.org/wiki/Category:Python_(mythology)',\n",
       " '/w/index.php?title=Special:Book&bookcmd=book_creator&referer=Python+%28mythology%29',\n",
       " '/w/index.php?title=Special:ElectronPdf&page=Python+%28mythology%29&action=show-download-screen',\n",
       " '/w/index.php?title=Python_(mythology)&printable=yes',\n",
       " 'https://af.wikipedia.org/wiki/Piton',\n",
       " 'https://be.wikipedia.org/wiki/%D0%9F%D1%96%D1%84%D0%BE%D0%BD',\n",
       " 'https://bg.wikipedia.org/wiki/%D0%9F%D0%B8%D1%82%D0%BE%D0%BD_(%D0%BC%D0%B8%D1%82%D0%BE%D0%BB%D0%BE%D0%B3%D0%B8%D1%8F)',\n",
       " 'https://br.wikipedia.org/wiki/Python_(aerouant)',\n",
       " 'https://ca.wikipedia.org/wiki/Pit%C3%B3_(mitologia)',\n",
       " 'https://cs.wikipedia.org/wiki/P%C3%BDth%C3%B3n',\n",
       " 'https://da.wikipedia.org/wiki/Python_(mytologi)',\n",
       " 'https://de.wikipedia.org/wiki/Python_(Mythologie)',\n",
       " 'https://et.wikipedia.org/wiki/Python',\n",
       " 'https://el.wikipedia.org/wiki/%CE%A0%CF%8D%CE%B8%CF%89%CE%BD_(%CE%BC%CF%85%CE%B8%CE%BF%CE%BB%CE%BF%CE%B3%CE%AF%CE%B1)',\n",
       " 'https://es.wikipedia.org/wiki/Pit%C3%B3n_(mitolog%C3%ADa)',\n",
       " 'https://eo.wikipedia.org/wiki/Pitono_(mitologio)',\n",
       " 'https://eu.wikipedia.org/wiki/Piton',\n",
       " 'https://fa.wikipedia.org/wiki/%D9%BE%D8%A7%DB%8C%D8%AA%D9%88%D9%86_(%D8%A7%D8%B3%D8%B7%D9%88%D8%B1%D9%87)',\n",
       " 'https://fr.wikipedia.org/wiki/Python_(mythologie)',\n",
       " 'https://gl.wikipedia.org/wiki/Pit%C3%B3n_(mitolox%C3%ADa)',\n",
       " 'https://ko.wikipedia.org/wiki/%ED%94%BC%ED%86%A4',\n",
       " 'https://hr.wikipedia.org/wiki/Piton_(mitologija)',\n",
       " 'https://id.wikipedia.org/wiki/Pithon_(mitologi)',\n",
       " 'https://it.wikipedia.org/wiki/Pitone_(mitologia)',\n",
       " 'https://la.wikipedia.org/wiki/Python_(mythologia)',\n",
       " 'https://lb.wikipedia.org/wiki/Python_(Mythologie)',\n",
       " 'https://lt.wikipedia.org/wiki/Pitonas_(mitologija)',\n",
       " 'https://hu.wikipedia.org/wiki/P%C3%BCth%C3%B3n',\n",
       " 'https://nl.wikipedia.org/wiki/Python_(mythologie)',\n",
       " 'https://ja.wikipedia.org/wiki/%E3%83%94%E3%83%A5%E3%83%BC%E3%83%88%E3%83%BC%E3%83%B3',\n",
       " 'https://no.wikipedia.org/wiki/Python_(mytologi)',\n",
       " 'https://pl.wikipedia.org/wiki/Pyton_(mitologia)',\n",
       " 'https://pt.wikipedia.org/wiki/P%C3%ADton_(mitologia)',\n",
       " 'https://ro.wikipedia.org/wiki/Python_(mitologie)',\n",
       " 'https://ru.wikipedia.org/wiki/%D0%9F%D0%B8%D1%84%D0%BE%D0%BD',\n",
       " 'https://sco.wikipedia.org/wiki/Python_(meethology)',\n",
       " 'https://sq.wikipedia.org/wiki/Pithoni',\n",
       " 'https://sl.wikipedia.org/wiki/Piton_(mitologija)',\n",
       " 'https://sr.wikipedia.org/wiki/%D0%9F%D0%B8%D1%82%D0%BE%D0%BD_(%D0%BC%D0%B8%D1%82%D0%BE%D0%BB%D0%BE%D0%B3%D0%B8%D1%98%D0%B0)',\n",
       " 'https://fi.wikipedia.org/wiki/Python_(hirvi%C3%B6)',\n",
       " 'https://sv.wikipedia.org/wiki/Python_(mytologi)',\n",
       " 'https://tr.wikipedia.org/wiki/Pithon',\n",
       " 'https://uk.wikipedia.org/wiki/%D0%9F%D1%96%D1%84%D0%BE%D0%BD_(%D0%BC%D1%96%D1%84%D0%BE%D0%BB%D0%BE%D0%B3%D1%96%D1%8F)',\n",
       " 'https://vi.wikipedia.org/wiki/Python_(th%E1%BA%A7n_tho%E1%BA%A1i)',\n",
       " 'https://zh.wikipedia.org/wiki/%E7%9A%AE%E5%90%8C',\n",
       " 'https://www.wikidata.org/wiki/Special:EntityPage/Q15721#sitelinks-wikipedia',\n",
       " '//en.wikipedia.org/wiki/Wikipedia:Text_of_Creative_Commons_Attribution-ShareAlike_3.0_Unported_License',\n",
       " '//creativecommons.org/licenses/by-sa/3.0/',\n",
       " '//foundation.wikimedia.org/wiki/Terms_of_Use',\n",
       " '//foundation.wikimedia.org/wiki/Privacy_policy',\n",
       " '//www.wikimediafoundation.org/',\n",
       " 'https://foundation.wikimedia.org/wiki/Privacy_policy',\n",
       " '/wiki/Wikipedia:About',\n",
       " '/wiki/Wikipedia:General_disclaimer',\n",
       " '//en.wikipedia.org/wiki/Wikipedia:Contact_us',\n",
       " 'https://www.mediawiki.org/wiki/Special:MyLanguage/How_to_contribute',\n",
       " 'https://foundation.wikimedia.org/wiki/Cookie_statement',\n",
       " '//en.m.wikipedia.org/w/index.php?title=Python_(mythology)&mobileaction=toggle_view_mobile',\n",
       " 'https://wikimediafoundation.org/',\n",
       " 'https://www.mediawiki.org/']"
      ]
     },
     "execution_count": 116,
     "metadata": {},
     "output_type": "execute_result"
    }
   ],
   "source": [
    "[link['href'] for link in parsed_python.find_all(['link','a']) if link.has_attr('href')]"
   ]
  },
  {
   "cell_type": "markdown",
   "metadata": {},
   "source": [
    "#### Number of Titles that have changed in the United States Code since its last release point "
   ]
  },
  {
   "cell_type": "code",
   "execution_count": 117,
   "metadata": {},
   "outputs": [],
   "source": [
    "# This is the url you will scrape in this exercise\n",
    "url = 'http://uscode.house.gov/download/download.shtml'"
   ]
  },
  {
   "cell_type": "code",
   "execution_count": 136,
   "metadata": {},
   "outputs": [],
   "source": [
    "#your code\n",
    "parsed_titles = BeautifulSoup(requests.get(url, verify = False).content)"
   ]
  },
  {
   "cell_type": "code",
   "execution_count": 120,
   "metadata": {},
   "outputs": [
    {
     "data": {
      "text/plain": [
       "15"
      ]
     },
     "execution_count": 120,
     "metadata": {},
     "output_type": "execute_result"
    }
   ],
   "source": [
    "len(parsed_titles.find_all('div', {'class':'usctitlechanged'}))"
   ]
  },
  {
   "cell_type": "markdown",
   "metadata": {},
   "source": [
    "#### A Python list with the top ten FBI's Most Wanted names "
   ]
  },
  {
   "cell_type": "code",
   "execution_count": 142,
   "metadata": {},
   "outputs": [],
   "source": [
    "# This is the url you will scrape in this exercise\n",
    "url = 'https://www.fbi.gov/wanted/topten'"
   ]
  },
  {
   "cell_type": "code",
   "execution_count": 143,
   "metadata": {},
   "outputs": [],
   "source": [
    "#your code \n",
    "parsed_FBI = BeautifulSoup(requests.get(url, verify = False).content)"
   ]
  },
  {
   "cell_type": "code",
   "execution_count": 145,
   "metadata": {},
   "outputs": [
    {
     "data": {
      "text/plain": [
       "['ALEJANDRO ROSALES CASTILLO',\n",
       " 'YASER ABDEL SAID',\n",
       " 'JASON DEREK BROWN',\n",
       " 'RAFAEL CARO-QUINTERO',\n",
       " 'ALEXIS FLORES',\n",
       " 'EUGENE PALMER',\n",
       " 'SANTIAGO VILLALBA MEDEROS',\n",
       " 'ROBERT WILLIAM FISHER',\n",
       " 'BHADRESHKUMAR CHETANBHAI PATEL',\n",
       " 'ARNOLDO JIMENEZ']"
      ]
     },
     "execution_count": 145,
     "metadata": {},
     "output_type": "execute_result"
    }
   ],
   "source": [
    "[img['alt'] for img in parsed_FBI.find_all('img') if img.has_attr('alt')][1:]"
   ]
  },
  {
   "cell_type": "markdown",
   "metadata": {},
   "source": [
    "####  20 latest earthquakes info (date, time, latitude, longitude and region name) by the EMSC as a pandas dataframe"
   ]
  },
  {
   "cell_type": "code",
   "execution_count": 159,
   "metadata": {},
   "outputs": [],
   "source": [
    "# This is the url you will scrape in this exercise\n",
    "url = 'https://www.emsc-csem.org/Earthquake/'"
   ]
  },
  {
   "cell_type": "code",
   "execution_count": 160,
   "metadata": {},
   "outputs": [],
   "source": [
    "#your code\n",
    "parsed_earth = BeautifulSoup(requests.get(url, verify = False).content)"
   ]
  },
  {
   "cell_type": "code",
   "execution_count": 167,
   "metadata": {},
   "outputs": [],
   "source": [
    "classes = ['tabev1','tabev2','tabev3','tabev6','tb_region']"
   ]
  },
  {
   "cell_type": "code",
   "execution_count": 180,
   "metadata": {},
   "outputs": [],
   "source": [
    "data = []\n",
    "for cl in classes:\n",
    "    data.append([el.text for el in parsed_earth.find_all('td',{'class':cl})])"
   ]
  },
  {
   "cell_type": "code",
   "execution_count": 178,
   "metadata": {},
   "outputs": [],
   "source": [
    "ll = list(zip([y for x,y in enumerate(test[1],1) if x%3!=0][0::2],[y for x,y in enumerate(test[1],1) if x%3!=0][1::2]))"
   ]
  },
  {
   "cell_type": "code",
   "execution_count": 193,
   "metadata": {},
   "outputs": [],
   "source": [
    "ln = list(zip(data[0][0::2], data[0][1::2]))"
   ]
  },
  {
   "cell_type": "code",
   "execution_count": 196,
   "metadata": {},
   "outputs": [],
   "source": [
    "lat = [ln[i][0]+ll[i][0] for i in range(len(ll))]\n",
    "lon = [ln[i][1]+ll[i][1] for i in range(len(ll))]"
   ]
  },
  {
   "cell_type": "code",
   "execution_count": 204,
   "metadata": {},
   "outputs": [
    {
     "data": {
      "text/html": [
       "<div>\n",
       "<style scoped>\n",
       "    .dataframe tbody tr th:only-of-type {\n",
       "        vertical-align: middle;\n",
       "    }\n",
       "\n",
       "    .dataframe tbody tr th {\n",
       "        vertical-align: top;\n",
       "    }\n",
       "\n",
       "    .dataframe thead th {\n",
       "        text-align: right;\n",
       "    }\n",
       "</style>\n",
       "<table border=\"1\" class=\"dataframe\">\n",
       "  <thead>\n",
       "    <tr style=\"text-align: right;\">\n",
       "      <th></th>\n",
       "      <th>date_time</th>\n",
       "      <th>latitude</th>\n",
       "      <th>longitude</th>\n",
       "      <th>region</th>\n",
       "    </tr>\n",
       "  </thead>\n",
       "  <tbody>\n",
       "    <tr>\n",
       "      <th>0</th>\n",
       "      <td>2019-07-16   18:36:26</td>\n",
       "      <td>35.74 N</td>\n",
       "      <td>117.56 W</td>\n",
       "      <td>SOUTHERN CALIFORNIA</td>\n",
       "    </tr>\n",
       "    <tr>\n",
       "      <th>1</th>\n",
       "      <td>2019-07-16   18:22:31</td>\n",
       "      <td>35.65 N</td>\n",
       "      <td>117.52 W</td>\n",
       "      <td>SOUTHERN CALIFORNIA</td>\n",
       "    </tr>\n",
       "    <tr>\n",
       "      <th>2</th>\n",
       "      <td>2019-07-16   18:15:27</td>\n",
       "      <td>28.37 N</td>\n",
       "      <td>56.98 E</td>\n",
       "      <td>SOUTHERN IRAN</td>\n",
       "    </tr>\n",
       "    <tr>\n",
       "      <th>3</th>\n",
       "      <td>2019-07-16   17:48:24</td>\n",
       "      <td>9.93 S</td>\n",
       "      <td>118.23 E</td>\n",
       "      <td>SUMBAWA REGION, INDONESIA</td>\n",
       "    </tr>\n",
       "    <tr>\n",
       "      <th>4</th>\n",
       "      <td>2019-07-16   17:42:29</td>\n",
       "      <td>35.67 N</td>\n",
       "      <td>117.53 W</td>\n",
       "      <td>SOUTHERN CALIFORNIA</td>\n",
       "    </tr>\n",
       "    <tr>\n",
       "      <th>5</th>\n",
       "      <td>2019-07-16   17:39:43</td>\n",
       "      <td>0.54 S</td>\n",
       "      <td>127.86 E</td>\n",
       "      <td>HALMAHERA, INDONESIA</td>\n",
       "    </tr>\n",
       "    <tr>\n",
       "      <th>6</th>\n",
       "      <td>2019-07-16   17:31:56</td>\n",
       "      <td>35.67 N</td>\n",
       "      <td>117.46 W</td>\n",
       "      <td>SOUTHERN CALIFORNIA</td>\n",
       "    </tr>\n",
       "    <tr>\n",
       "      <th>7</th>\n",
       "      <td>2019-07-16   17:05:45</td>\n",
       "      <td>36.20 N</td>\n",
       "      <td>117.90 W</td>\n",
       "      <td>CENTRAL CALIFORNIA</td>\n",
       "    </tr>\n",
       "    <tr>\n",
       "      <th>8</th>\n",
       "      <td>2019-07-16   17:05:08</td>\n",
       "      <td>15.40 N</td>\n",
       "      <td>94.64 W</td>\n",
       "      <td>OFFSHORE OAXACA, MEXICO</td>\n",
       "    </tr>\n",
       "    <tr>\n",
       "      <th>9</th>\n",
       "      <td>2019-07-16   17:01:30</td>\n",
       "      <td>36.10 N</td>\n",
       "      <td>117.90 W</td>\n",
       "      <td>CENTRAL CALIFORNIA</td>\n",
       "    </tr>\n",
       "    <tr>\n",
       "      <th>10</th>\n",
       "      <td>2019-07-16   16:45:56</td>\n",
       "      <td>0.68 S</td>\n",
       "      <td>127.58 E</td>\n",
       "      <td>HALMAHERA, INDONESIA</td>\n",
       "    </tr>\n",
       "    <tr>\n",
       "      <th>11</th>\n",
       "      <td>2019-07-16   16:45:55</td>\n",
       "      <td>18.99 N</td>\n",
       "      <td>70.09 W</td>\n",
       "      <td>DOMINICAN REPUBLIC</td>\n",
       "    </tr>\n",
       "    <tr>\n",
       "      <th>12</th>\n",
       "      <td>2019-07-16   16:43:40</td>\n",
       "      <td>37.23 N</td>\n",
       "      <td>28.27 E</td>\n",
       "      <td>WESTERN TURKEY</td>\n",
       "    </tr>\n",
       "    <tr>\n",
       "      <th>13</th>\n",
       "      <td>2019-07-16   16:43:21</td>\n",
       "      <td>36.03 N</td>\n",
       "      <td>117.79 W</td>\n",
       "      <td>CENTRAL CALIFORNIA</td>\n",
       "    </tr>\n",
       "    <tr>\n",
       "      <th>14</th>\n",
       "      <td>2019-07-16   16:36:41</td>\n",
       "      <td>35.96 N</td>\n",
       "      <td>117.30 W</td>\n",
       "      <td>CENTRAL CALIFORNIA</td>\n",
       "    </tr>\n",
       "    <tr>\n",
       "      <th>15</th>\n",
       "      <td>2019-07-16   16:28:38</td>\n",
       "      <td>35.92 N</td>\n",
       "      <td>117.68 W</td>\n",
       "      <td>CENTRAL CALIFORNIA</td>\n",
       "    </tr>\n",
       "    <tr>\n",
       "      <th>16</th>\n",
       "      <td>2019-07-16   16:27:59</td>\n",
       "      <td>18.51 S</td>\n",
       "      <td>120.55 E</td>\n",
       "      <td>WESTERN AUSTRALIA</td>\n",
       "    </tr>\n",
       "    <tr>\n",
       "      <th>17</th>\n",
       "      <td>2019-07-16   16:26:02</td>\n",
       "      <td>30.58 N</td>\n",
       "      <td>141.94 E</td>\n",
       "      <td>IZU ISLANDS, JAPAN REGION</td>\n",
       "    </tr>\n",
       "    <tr>\n",
       "      <th>18</th>\n",
       "      <td>2019-07-16   16:21:05</td>\n",
       "      <td>28.45 N</td>\n",
       "      <td>56.70 E</td>\n",
       "      <td>SOUTHERN IRAN</td>\n",
       "    </tr>\n",
       "    <tr>\n",
       "      <th>19</th>\n",
       "      <td>2019-07-16   16:01:04</td>\n",
       "      <td>62.22 N</td>\n",
       "      <td>150.00 W</td>\n",
       "      <td>CENTRAL ALASKA</td>\n",
       "    </tr>\n",
       "  </tbody>\n",
       "</table>\n",
       "</div>"
      ],
      "text/plain": [
       "                date_time   latitude   longitude                      region\n",
       "0   2019-07-16   18:36:26  35.74 N    117.56 W           SOUTHERN CALIFORNIA\n",
       "1   2019-07-16   18:22:31  35.65 N    117.52 W           SOUTHERN CALIFORNIA\n",
       "2   2019-07-16   18:15:27  28.37 N     56.98 E                 SOUTHERN IRAN\n",
       "3   2019-07-16   17:48:24   9.93 S    118.23 E     SUMBAWA REGION, INDONESIA\n",
       "4   2019-07-16   17:42:29  35.67 N    117.53 W           SOUTHERN CALIFORNIA\n",
       "5   2019-07-16   17:39:43   0.54 S    127.86 E          HALMAHERA, INDONESIA\n",
       "6   2019-07-16   17:31:56  35.67 N    117.46 W           SOUTHERN CALIFORNIA\n",
       "7   2019-07-16   17:05:45  36.20 N    117.90 W            CENTRAL CALIFORNIA\n",
       "8   2019-07-16   17:05:08  15.40 N     94.64 W       OFFSHORE OAXACA, MEXICO\n",
       "9   2019-07-16   17:01:30  36.10 N    117.90 W            CENTRAL CALIFORNIA\n",
       "10  2019-07-16   16:45:56   0.68 S    127.58 E          HALMAHERA, INDONESIA\n",
       "11  2019-07-16   16:45:55  18.99 N     70.09 W            DOMINICAN REPUBLIC\n",
       "12  2019-07-16   16:43:40  37.23 N     28.27 E                WESTERN TURKEY\n",
       "13  2019-07-16   16:43:21  36.03 N    117.79 W            CENTRAL CALIFORNIA\n",
       "14  2019-07-16   16:36:41  35.96 N    117.30 W            CENTRAL CALIFORNIA\n",
       "15  2019-07-16   16:28:38  35.92 N    117.68 W            CENTRAL CALIFORNIA\n",
       "16  2019-07-16   16:27:59  18.51 S    120.55 E             WESTERN AUSTRALIA\n",
       "17  2019-07-16   16:26:02  30.58 N    141.94 E     IZU ISLANDS, JAPAN REGION\n",
       "18  2019-07-16   16:21:05  28.45 N     56.70 E                 SOUTHERN IRAN\n",
       "19  2019-07-16   16:01:04  62.22 N    150.00 W                CENTRAL ALASKA"
      ]
     },
     "execution_count": 204,
     "metadata": {},
     "output_type": "execute_result"
    }
   ],
   "source": [
    "earthquakes = pd.DataFrame({'date_time':data[-2],'latitude':lat,'longitude':lon,'region':data[-1]})\n",
    "earthquakes['date_time'] = earthquakes['date_time'].str.replace('earthquake','').apply(lambda x: x.split('.')[0])\n",
    "earthquakes.head(20)"
   ]
  },
  {
   "cell_type": "markdown",
   "metadata": {},
   "source": [
    "#### Display the date, and title of upcoming hackathon events as a Pandas dataframe table"
   ]
  },
  {
   "cell_type": "code",
   "execution_count": 210,
   "metadata": {},
   "outputs": [],
   "source": [
    "# This is the url you will scrape in this exercise\n",
    "url ='https://hackevents.co/hackathons'"
   ]
  },
  {
   "cell_type": "code",
   "execution_count": 233,
   "metadata": {},
   "outputs": [],
   "source": [
    "#your code\n",
    "parsed_hackathons = BeautifulSoup(requests.get('https://hackevents.co/', verify = False).content, 'html5')"
   ]
  },
  {
   "cell_type": "code",
   "execution_count": 243,
   "metadata": {},
   "outputs": [],
   "source": [
    "titles = [title.text for title in parsed_hackathons.find_all('h5')]"
   ]
  },
  {
   "cell_type": "code",
   "execution_count": 247,
   "metadata": {},
   "outputs": [],
   "source": [
    "dates = [date.next_sibling.replace('\\u2003','').replace('\\n','') for date in parsed_hackathons.find_all('i', {'class':'fas fa-calendar-alt'})]"
   ]
  },
  {
   "cell_type": "code",
   "execution_count": 248,
   "metadata": {},
   "outputs": [
    {
     "data": {
      "text/html": [
       "<div>\n",
       "<style scoped>\n",
       "    .dataframe tbody tr th:only-of-type {\n",
       "        vertical-align: middle;\n",
       "    }\n",
       "\n",
       "    .dataframe tbody tr th {\n",
       "        vertical-align: top;\n",
       "    }\n",
       "\n",
       "    .dataframe thead th {\n",
       "        text-align: right;\n",
       "    }\n",
       "</style>\n",
       "<table border=\"1\" class=\"dataframe\">\n",
       "  <thead>\n",
       "    <tr style=\"text-align: right;\">\n",
       "      <th></th>\n",
       "      <th>titles</th>\n",
       "      <th>dates</th>\n",
       "    </tr>\n",
       "  </thead>\n",
       "  <tbody>\n",
       "    <tr>\n",
       "      <th>0</th>\n",
       "      <td>Code Geist Hackathon by SefrWahed</td>\n",
       "      <td>7/29/2019</td>\n",
       "    </tr>\n",
       "    <tr>\n",
       "      <th>1</th>\n",
       "      <td>The Code Factor</td>\n",
       "      <td>5/21/2019</td>\n",
       "    </tr>\n",
       "    <tr>\n",
       "      <th>2</th>\n",
       "      <td>TECHFEST MUNICH</td>\n",
       "      <td>9/6/2019</td>\n",
       "    </tr>\n",
       "    <tr>\n",
       "      <th>3</th>\n",
       "      <td>Galileo App Competition</td>\n",
       "      <td>1/31/2019</td>\n",
       "    </tr>\n",
       "  </tbody>\n",
       "</table>\n",
       "</div>"
      ],
      "text/plain": [
       "                              titles      dates\n",
       "0  Code Geist Hackathon by SefrWahed  7/29/2019\n",
       "1                    The Code Factor  5/21/2019\n",
       "2                    TECHFEST MUNICH   9/6/2019\n",
       "3            Galileo App Competition  1/31/2019"
      ]
     },
     "execution_count": 248,
     "metadata": {},
     "output_type": "execute_result"
    }
   ],
   "source": [
    "pd.DataFrame({'titles':titles,'dates':dates})"
   ]
  },
  {
   "cell_type": "markdown",
   "metadata": {},
   "source": [
    "#### Count number of tweets by a given Twitter account."
   ]
  },
  {
   "cell_type": "markdown",
   "metadata": {},
   "source": [
    "You will need to include a ***try/except block*** for account names not found. \n",
    "<br>***Hint:*** the program should count the number of tweets for any provided account"
   ]
  },
  {
   "cell_type": "code",
   "execution_count": 279,
   "metadata": {},
   "outputs": [],
   "source": [
    "# This is the url you will scrape in this exercise \n",
    "# You will need to add the account credentials to this url\n",
    "url = 'https://twitter.com'"
   ]
  },
  {
   "cell_type": "code",
   "execution_count": 280,
   "metadata": {},
   "outputs": [
    {
     "name": "stdout",
     "output_type": "stream",
     "text": [
      "Usuario: ironhackMex\n"
     ]
    }
   ],
   "source": [
    "user = input('Usuario: ')"
   ]
  },
  {
   "cell_type": "code",
   "execution_count": 281,
   "metadata": {},
   "outputs": [],
   "source": [
    "url += '/' + user"
   ]
  },
  {
   "cell_type": "code",
   "execution_count": 274,
   "metadata": {},
   "outputs": [
    {
     "name": "stdout",
     "output_type": "stream",
     "text": [
      "The user ironhackMex has 518 tweets\n"
     ]
    }
   ],
   "source": [
    "#your code\n",
    "try:\n",
    "    parsed_tweeter = BeautifulSoup(requests.get(url, verify = False).content, 'html5')\n",
    "    tweets = parsed_tweeter.find_all('span',{'class':'ProfileNav-value'})[0]['data-count']\n",
    "    print(f'The user {user} has {tweets} tweets')\n",
    "except:\n",
    "    print('User not found!')"
   ]
  },
  {
   "cell_type": "markdown",
   "metadata": {},
   "source": [
    "#### Number of followers of a given twitter account"
   ]
  },
  {
   "cell_type": "markdown",
   "metadata": {},
   "source": [
    "You will need to include a ***try/except block*** in case account/s name not found. \n",
    "<br>***Hint:*** the program should count the followers for any provided account"
   ]
  },
  {
   "cell_type": "code",
   "execution_count": null,
   "metadata": {},
   "outputs": [],
   "source": [
    "# This is the url you will scrape in this exercise \n",
    "# You will need to add the account credentials to this url\n",
    "url = 'https://twitter.com/'"
   ]
  },
  {
   "cell_type": "code",
   "execution_count": 282,
   "metadata": {},
   "outputs": [
    {
     "name": "stdout",
     "output_type": "stream",
     "text": [
      "The user ironhackMex has 1204 followers\n"
     ]
    }
   ],
   "source": [
    "#your code\n",
    "try:\n",
    "    parsed_tweeter = BeautifulSoup(requests.get(url, verify = False).content, 'html5')\n",
    "    followers = parsed_tweeter.find_all('span',{'class':'ProfileNav-value'})[2]['data-count']\n",
    "    print(f'The user {user} has {followers} followers')\n",
    "except:\n",
    "    print('User not found!')"
   ]
  },
  {
   "cell_type": "markdown",
   "metadata": {},
   "source": [
    "#### List all language names and number of related articles in the order they appear in wikipedia.org"
   ]
  },
  {
   "cell_type": "code",
   "execution_count": 286,
   "metadata": {},
   "outputs": [],
   "source": [
    "# This is the url you will scrape in this exercise\n",
    "url = 'https://www.wikipedia.org/'"
   ]
  },
  {
   "cell_type": "code",
   "execution_count": 287,
   "metadata": {},
   "outputs": [],
   "source": [
    "#your code\n",
    "parsed_wikiorg = BeautifulSoup(requests.get(url, verify = False).content)"
   ]
  },
  {
   "cell_type": "code",
   "execution_count": 292,
   "metadata": {},
   "outputs": [],
   "source": [
    "languages = [lang.text for lang in parsed_wikiorg.find_all('strong')[1:-1]]"
   ]
  },
  {
   "cell_type": "code",
   "execution_count": 308,
   "metadata": {},
   "outputs": [],
   "source": [
    "numbers = [num.text.replace('+','') for num in parsed_wikiorg.find_all('bdi')[:10]]"
   ]
  },
  {
   "cell_type": "code",
   "execution_count": 309,
   "metadata": {},
   "outputs": [
    {
     "data": {
      "text/html": [
       "<div>\n",
       "<style scoped>\n",
       "    .dataframe tbody tr th:only-of-type {\n",
       "        vertical-align: middle;\n",
       "    }\n",
       "\n",
       "    .dataframe tbody tr th {\n",
       "        vertical-align: top;\n",
       "    }\n",
       "\n",
       "    .dataframe thead th {\n",
       "        text-align: right;\n",
       "    }\n",
       "</style>\n",
       "<table border=\"1\" class=\"dataframe\">\n",
       "  <thead>\n",
       "    <tr style=\"text-align: right;\">\n",
       "      <th></th>\n",
       "      <th>languages</th>\n",
       "      <th>articles</th>\n",
       "    </tr>\n",
       "  </thead>\n",
       "  <tbody>\n",
       "    <tr>\n",
       "      <th>0</th>\n",
       "      <td>English</td>\n",
       "      <td>5 892 000</td>\n",
       "    </tr>\n",
       "    <tr>\n",
       "      <th>1</th>\n",
       "      <td>日本語</td>\n",
       "      <td>1 159 000</td>\n",
       "    </tr>\n",
       "    <tr>\n",
       "      <th>2</th>\n",
       "      <td>Español</td>\n",
       "      <td>1 532 000</td>\n",
       "    </tr>\n",
       "    <tr>\n",
       "      <th>3</th>\n",
       "      <td>Deutsch</td>\n",
       "      <td>2 323 000</td>\n",
       "    </tr>\n",
       "    <tr>\n",
       "      <th>4</th>\n",
       "      <td>Русский</td>\n",
       "      <td>1 556 000</td>\n",
       "    </tr>\n",
       "    <tr>\n",
       "      <th>5</th>\n",
       "      <td>Français</td>\n",
       "      <td>2 123 000</td>\n",
       "    </tr>\n",
       "    <tr>\n",
       "      <th>6</th>\n",
       "      <td>Italiano</td>\n",
       "      <td>1 541 000</td>\n",
       "    </tr>\n",
       "    <tr>\n",
       "      <th>7</th>\n",
       "      <td>中文</td>\n",
       "      <td>1 065 000</td>\n",
       "    </tr>\n",
       "    <tr>\n",
       "      <th>8</th>\n",
       "      <td>Português</td>\n",
       "      <td>1 010 000</td>\n",
       "    </tr>\n",
       "    <tr>\n",
       "      <th>9</th>\n",
       "      <td>Polski</td>\n",
       "      <td>1 346 000</td>\n",
       "    </tr>\n",
       "  </tbody>\n",
       "</table>\n",
       "</div>"
      ],
      "text/plain": [
       "   languages   articles\n",
       "0    English  5 892 000\n",
       "1        日本語  1 159 000\n",
       "2    Español  1 532 000\n",
       "3    Deutsch  2 323 000\n",
       "4    Русский  1 556 000\n",
       "5   Français  2 123 000\n",
       "6   Italiano  1 541 000\n",
       "7         中文  1 065 000\n",
       "8  Português  1 010 000\n",
       "9     Polski  1 346 000"
      ]
     },
     "execution_count": 309,
     "metadata": {},
     "output_type": "execute_result"
    }
   ],
   "source": [
    "pd.DataFrame({'languages':languages,'articles':numbers})"
   ]
  },
  {
   "cell_type": "markdown",
   "metadata": {},
   "source": [
    "#### A list with the different kind of datasets available in data.gov.uk "
   ]
  },
  {
   "cell_type": "code",
   "execution_count": 310,
   "metadata": {},
   "outputs": [],
   "source": [
    "# This is the url you will scrape in this exercise\n",
    "url = 'https://data.gov.uk/'"
   ]
  },
  {
   "cell_type": "code",
   "execution_count": 311,
   "metadata": {},
   "outputs": [],
   "source": [
    "#your code \n",
    "parsed_govuk = BeautifulSoup(requests.get(url, verify = False).content)"
   ]
  },
  {
   "cell_type": "code",
   "execution_count": 317,
   "metadata": {},
   "outputs": [
    {
     "data": {
      "text/plain": [
       "['Business and economy',\n",
       " 'Crime and justice',\n",
       " 'Defence',\n",
       " 'Education',\n",
       " 'Environment',\n",
       " 'Government',\n",
       " 'Government spending',\n",
       " 'Health',\n",
       " 'Mapping',\n",
       " 'Society',\n",
       " 'Towns and cities',\n",
       " 'Transport']"
      ]
     },
     "execution_count": 317,
     "metadata": {},
     "output_type": "execute_result"
    }
   ],
   "source": [
    "[title.text for title in parsed_govuk.find_all('h2')]"
   ]
  },
  {
   "cell_type": "markdown",
   "metadata": {},
   "source": [
    "#### Top 10 languages by number of native speakers stored in a Pandas Dataframe"
   ]
  },
  {
   "cell_type": "code",
   "execution_count": 318,
   "metadata": {},
   "outputs": [],
   "source": [
    "# This is the url you will scrape in this exercise\n",
    "url = 'https://en.wikipedia.org/wiki/List_of_languages_by_number_of_native_speakers'"
   ]
  },
  {
   "cell_type": "code",
   "execution_count": 319,
   "metadata": {},
   "outputs": [],
   "source": [
    "#your code\n",
    "parsed_speakers = BeautifulSoup(requests.get(url, verify = False).content)"
   ]
  },
  {
   "cell_type": "code",
   "execution_count": 351,
   "metadata": {},
   "outputs": [],
   "source": [
    "info = [[el.text.replace('\\n','') for el in row.find_all('td')] for row in parsed_speakers.find_all('tr') if len(row) == 8][1:-1]"
   ]
  },
  {
   "cell_type": "code",
   "execution_count": 355,
   "metadata": {},
   "outputs": [
    {
     "data": {
      "text/html": [
       "<div>\n",
       "<style scoped>\n",
       "    .dataframe tbody tr th:only-of-type {\n",
       "        vertical-align: middle;\n",
       "    }\n",
       "\n",
       "    .dataframe tbody tr th {\n",
       "        vertical-align: top;\n",
       "    }\n",
       "\n",
       "    .dataframe thead th {\n",
       "        text-align: right;\n",
       "    }\n",
       "</style>\n",
       "<table border=\"1\" class=\"dataframe\">\n",
       "  <thead>\n",
       "    <tr style=\"text-align: right;\">\n",
       "      <th></th>\n",
       "      <th>Rank</th>\n",
       "      <th>Language</th>\n",
       "      <th>Native Speakers (in millions)</th>\n",
       "      <th>Percentage of World Population</th>\n",
       "    </tr>\n",
       "  </thead>\n",
       "  <tbody>\n",
       "    <tr>\n",
       "      <th>0</th>\n",
       "      <td>1</td>\n",
       "      <td>Mandarin (entire branch)</td>\n",
       "      <td>935 (955)</td>\n",
       "      <td>14.1%</td>\n",
       "    </tr>\n",
       "    <tr>\n",
       "      <th>1</th>\n",
       "      <td>2</td>\n",
       "      <td>Spanish</td>\n",
       "      <td>390 (405)</td>\n",
       "      <td>5.85%</td>\n",
       "    </tr>\n",
       "    <tr>\n",
       "      <th>2</th>\n",
       "      <td>3</td>\n",
       "      <td>English</td>\n",
       "      <td>365 (360)</td>\n",
       "      <td>5.52%</td>\n",
       "    </tr>\n",
       "    <tr>\n",
       "      <th>3</th>\n",
       "      <td>4</td>\n",
       "      <td>Hindi[b]</td>\n",
       "      <td>295 (310)</td>\n",
       "      <td>4.46%</td>\n",
       "    </tr>\n",
       "    <tr>\n",
       "      <th>4</th>\n",
       "      <td>5</td>\n",
       "      <td>Arabic</td>\n",
       "      <td>280 (295)</td>\n",
       "      <td>4.23%</td>\n",
       "    </tr>\n",
       "    <tr>\n",
       "      <th>5</th>\n",
       "      <td>6</td>\n",
       "      <td>Portuguese</td>\n",
       "      <td>205 (215)</td>\n",
       "      <td>3.08%</td>\n",
       "    </tr>\n",
       "    <tr>\n",
       "      <th>6</th>\n",
       "      <td>7</td>\n",
       "      <td>Bengali (Bangla)</td>\n",
       "      <td>200 (205)</td>\n",
       "      <td>3.05%</td>\n",
       "    </tr>\n",
       "    <tr>\n",
       "      <th>7</th>\n",
       "      <td>8</td>\n",
       "      <td>Russian</td>\n",
       "      <td>160 (155)</td>\n",
       "      <td>2.42%</td>\n",
       "    </tr>\n",
       "    <tr>\n",
       "      <th>8</th>\n",
       "      <td>9</td>\n",
       "      <td>Japanese</td>\n",
       "      <td>125 (125)</td>\n",
       "      <td>1.92%</td>\n",
       "    </tr>\n",
       "    <tr>\n",
       "      <th>9</th>\n",
       "      <td>10</td>\n",
       "      <td>Punjabi</td>\n",
       "      <td>95 (100)</td>\n",
       "      <td>1.44%</td>\n",
       "    </tr>\n",
       "  </tbody>\n",
       "</table>\n",
       "</div>"
      ],
      "text/plain": [
       "  Rank                  Language Native Speakers (in millions)  \\\n",
       "0    1  Mandarin (entire branch)                     935 (955)   \n",
       "1    2                   Spanish                     390 (405)   \n",
       "2    3                   English                     365 (360)   \n",
       "3    4                  Hindi[b]                     295 (310)   \n",
       "4    5                    Arabic                     280 (295)   \n",
       "5    6                Portuguese                     205 (215)   \n",
       "6    7          Bengali (Bangla)                     200 (205)   \n",
       "7    8                   Russian                     160 (155)   \n",
       "8    9                  Japanese                     125 (125)   \n",
       "9   10                   Punjabi                      95 (100)   \n",
       "\n",
       "  Percentage of World Population  \n",
       "0                          14.1%  \n",
       "1                          5.85%  \n",
       "2                          5.52%  \n",
       "3                          4.46%  \n",
       "4                          4.23%  \n",
       "5                          3.08%  \n",
       "6                          3.05%  \n",
       "7                          2.42%  \n",
       "8                          1.92%  \n",
       "9                          1.44%  "
      ]
     },
     "execution_count": 355,
     "metadata": {},
     "output_type": "execute_result"
    }
   ],
   "source": [
    "pd.DataFrame.from_records(info, columns=['Rank', 'Language', 'Native Speakers (in millions)','Percentage of World Population']).head(10)"
   ]
  },
  {
   "cell_type": "markdown",
   "metadata": {},
   "source": [
    "### BONUS QUESTIONS"
   ]
  },
  {
   "cell_type": "markdown",
   "metadata": {},
   "source": [
    "#### Scrape a certain number of tweets of a given Twitter account."
   ]
  },
  {
   "cell_type": "code",
   "execution_count": null,
   "metadata": {},
   "outputs": [],
   "source": [
    "# This is the url you will scrape in this exercise \n",
    "# You will need to add the account credentials to this url\n",
    "url = 'https://twitter.com/'"
   ]
  },
  {
   "cell_type": "code",
   "execution_count": null,
   "metadata": {},
   "outputs": [],
   "source": [
    "# your code"
   ]
  },
  {
   "cell_type": "markdown",
   "metadata": {},
   "source": [
    "#### IMDB's Top 250 data (movie name, Initial release, director name and stars) as a pandas dataframe"
   ]
  },
  {
   "cell_type": "code",
   "execution_count": null,
   "metadata": {},
   "outputs": [],
   "source": [
    "# This is the url you will scrape in this exercise \n",
    "url = 'https://www.imdb.com/chart/top'"
   ]
  },
  {
   "cell_type": "code",
   "execution_count": null,
   "metadata": {},
   "outputs": [],
   "source": [
    "#your code"
   ]
  },
  {
   "cell_type": "markdown",
   "metadata": {},
   "source": [
    "#### Find the live weather report (temperature, wind speed, description and weather) of a given city."
   ]
  },
  {
   "cell_type": "code",
   "execution_count": null,
   "metadata": {},
   "outputs": [],
   "source": [
    "#https://openweathermap.org/current\n",
    "city = city=input('Enter the city:')\n",
    "url = 'http://api.openweathermap.org/data/2.5/weather?'+'q='+city+'&APPID=b35975e18dc93725acb092f7272cc6b8&units=metric'"
   ]
  },
  {
   "cell_type": "code",
   "execution_count": null,
   "metadata": {},
   "outputs": [],
   "source": [
    "# your code"
   ]
  },
  {
   "cell_type": "markdown",
   "metadata": {},
   "source": [
    "#### Book name, price and stock availability as a pandas dataframe."
   ]
  },
  {
   "cell_type": "code",
   "execution_count": null,
   "metadata": {},
   "outputs": [],
   "source": [
    "# This is the url you will scrape in this exercise. \n",
    "# It is a fictional bookstore created to be scraped. \n",
    "url = 'http://books.toscrape.com/'"
   ]
  },
  {
   "cell_type": "code",
   "execution_count": null,
   "metadata": {},
   "outputs": [],
   "source": [
    "#your code"
   ]
  }
 ],
 "metadata": {
  "kernelspec": {
   "display_name": "Python 3",
   "language": "python",
   "name": "python3"
  },
  "language_info": {
   "codemirror_mode": {
    "name": "ipython",
    "version": 3
   },
   "file_extension": ".py",
   "mimetype": "text/x-python",
   "name": "python",
   "nbconvert_exporter": "python",
   "pygments_lexer": "ipython3",
   "version": "3.7.3"
  }
 },
 "nbformat": 4,
 "nbformat_minor": 2
}
