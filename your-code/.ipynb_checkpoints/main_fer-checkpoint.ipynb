{
 "cells": [
  {
   "cell_type": "markdown",
   "metadata": {},
   "source": [
    "# Web Scraping Lab\n",
    "\n",
    "You will find in this notebook some scrapy exercises to practise your scraping skills.\n",
    "\n",
    "**Tips:**\n",
    "\n",
    "- Check the response status code for each request to ensure you have obtained the intended contennt.\n",
    "- Print the response text in each request to understand the kind of info you are getting and its format.\n",
    "- Check for patterns in the response text to extract the data/info requested in each question.\n",
    "- Visit each url and take a look at its source through Chrome DevTools. You'll need to identify the html tags, special class names etc. used for the html content you are expected to extract."
   ]
  },
  {
   "cell_type": "markdown",
   "metadata": {},
   "source": [
    "- [Requests library](http://docs.python-requests.org/en/master/#the-user-guide) documentation \n",
    "- [Beautiful Soup Doc](https://www.crummy.com/software/BeautifulSoup/bs4/doc/)\n",
    "- [Urllib](https://docs.python.org/3/library/urllib.html#module-urllib)\n",
    "- [re lib](https://docs.python.org/3/library/re.html)\n",
    "- [lxml lib](https://lxml.de/)\n",
    "- [Scrapy](https://scrapy.org/)\n",
    "- [List of HTTP status codes](https://en.wikipedia.org/wiki/List_of_HTTP_status_codes)\n",
    "- [HTML basics](http://www.simplehtmlguide.com/cheatsheet.php)\n",
    "- [CSS basics](https://www.cssbasics.com/#page_start)"
   ]
  },
  {
   "cell_type": "markdown",
   "metadata": {},
   "source": [
    "#### Below are the libraries and modules you may need. `requests`,  `BeautifulSoup` and `pandas` are imported for you. If you prefer to use additional libraries feel free to uncomment them."
   ]
  },
  {
   "cell_type": "code",
   "execution_count": 1,
   "metadata": {},
   "outputs": [],
   "source": [
    "import requests\n",
    "from bs4 import BeautifulSoup\n",
    "import pandas as pd\n",
    "\n",
    "# from pprint import pprint\n",
    "from lxml import html\n",
    "# from lxml.html import fromstring\n",
    "# import urllib.request\n",
    "# from urllib.request import urlopen\n",
    "# import random\n",
    "import re\n",
    "# import scrapy"
   ]
  },
  {
   "cell_type": "markdown",
   "metadata": {},
   "source": [
    "#### Download, parse (using BeautifulSoup), and print the content from the Trending Developers page from GitHub:"
   ]
  },
  {
   "cell_type": "code",
   "execution_count": 2,
   "metadata": {},
   "outputs": [],
   "source": [
    "# This is the url you will scrape in this exercise\n",
    "url = 'https://github.com/trending/developers'"
   ]
  },
  {
   "cell_type": "code",
   "execution_count": 3,
   "metadata": {},
   "outputs": [],
   "source": [
    "#your code\n",
    "html = requests.get(url).content"
   ]
  },
  {
   "cell_type": "markdown",
   "metadata": {},
   "source": [
    "#### Display the names of the trending developers retrieved in the previous step.\n",
    "\n",
    "Your output should be a Python list of developer names. Each name should not contain any html tag.\n",
    "\n",
    "**Instructions:**\n",
    "\n",
    "1. Find out the html tag and class names used for the developer names. You can achieve this using Chrome DevTools.\n",
    "\n",
    "1. Use BeautifulSoup to extract all the html elements that contain the developer names.\n",
    "\n",
    "1. Use string manipulation techniques to replace whitespaces and linebreaks (i.e. `\\n`) in the *text* of each html element. Use a list to store the clean names.\n",
    "\n",
    "1. Print the list of names.\n",
    "\n",
    "Your output should look like below:\n",
    "\n",
    "```\n",
    "['trimstray (@trimstray)',\n",
    " 'joewalnes (JoeWalnes)',\n",
    " 'charlax (Charles-AxelDein)',\n",
    " 'ForrestKnight (ForrestKnight)',\n",
    " 'revery-ui (revery-ui)',\n",
    " 'alibaba (Alibaba)',\n",
    " 'Microsoft (Microsoft)',\n",
    " 'github (GitHub)',\n",
    " 'facebook (Facebook)',\n",
    " 'boazsegev (Bo)',\n",
    " 'google (Google)',\n",
    " 'cloudfetch',\n",
    " 'sindresorhus (SindreSorhus)',\n",
    " 'tensorflow',\n",
    " 'apache (TheApacheSoftwareFoundation)',\n",
    " 'DevonCrawford (DevonCrawford)',\n",
    " 'ARMmbed (ArmMbed)',\n",
    " 'vuejs (vuejs)',\n",
    " 'fastai (fast.ai)',\n",
    " 'QiShaoXuan (Qi)',\n",
    " 'joelparkerhenderson (JoelParkerHenderson)',\n",
    " 'torvalds (LinusTorvalds)',\n",
    " 'CyC2018',\n",
    " 'komeiji-satori (神楽坂覚々)',\n",
    " 'script-8']\n",
    " ```"
   ]
  },
  {
   "cell_type": "code",
   "execution_count": 4,
   "metadata": {},
   "outputs": [],
   "source": [
    "#your code\n",
    "soup = BeautifulSoup(html, 'lxml')\n",
    "h1 = soup.find_all('h1', {'class':'h3 lh-condensed'})\n",
    "a = soup.find_all('a', {'class':'link-gray'})"
   ]
  },
  {
   "cell_type": "code",
   "execution_count": 5,
   "metadata": {},
   "outputs": [],
   "source": [
    "nombres = [link.string for link in h1]"
   ]
  },
  {
   "cell_type": "code",
   "execution_count": 6,
   "metadata": {},
   "outputs": [],
   "source": [
    "a = a[19:44]"
   ]
  },
  {
   "cell_type": "code",
   "execution_count": 7,
   "metadata": {},
   "outputs": [],
   "source": [
    "nicks = [elemento.string for elemento in a]"
   ]
  },
  {
   "cell_type": "code",
   "execution_count": 9,
   "metadata": {},
   "outputs": [],
   "source": [
    "todo = [nombres[i] + \" \"+ '('+ nicks[i]+')' for i in range(len(nombres))]"
   ]
  },
  {
   "cell_type": "code",
   "execution_count": 10,
   "metadata": {},
   "outputs": [
    {
     "data": {
      "text/plain": [
       "['Eric Ma (ericmjl)',\n",
       " 'Federico Brigante (bfred-it)',\n",
       " 'Kyle Roach (iRoachie)',\n",
       " 'Olle Jonsson (olleolleolle)',\n",
       " 'Nikita Sobolev (sobolevn)',\n",
       " 'Frank S. Thomas (fthomas)',\n",
       " 'syuilo (syuilo)',\n",
       " 'Ives van Hoorne (CompuIves)',\n",
       " 'Paulus Schoutsen (balloob)',\n",
       " 'Sarah Drasner (sdras)',\n",
       " 'Stefanos Kornilios Mitsis Poiitidis (skmp)',\n",
       " 'Jan Hovancik (hovancik)',\n",
       " 'Andreas Mueller (amueller)',\n",
       " 'Guillaume Gomez (GuillaumeGomez)',\n",
       " 'Matt Holt (mholt)',\n",
       " 'Clifford Wolf (cliffordwolf)',\n",
       " 'Franck Nijhof (frenck)',\n",
       " 'Joe Block (unixorn)',\n",
       " 'Andrei Neagoie (aneagoie)',\n",
       " 'Jack Lloyd (randombit)',\n",
       " 'Guillermo Rauch (rauchg)',\n",
       " 'Tim Griesser (tgriesser)',\n",
       " 'Jameson Nash (vtjnash)',\n",
       " 'Anderson Banihirwe (andersy005)',\n",
       " 'Danny Ryan (djrtwo)']"
      ]
     },
     "execution_count": 10,
     "metadata": {},
     "output_type": "execute_result"
    }
   ],
   "source": [
    "todo"
   ]
  },
  {
   "cell_type": "markdown",
   "metadata": {},
   "source": [
    "#### Display the trending Python repositories in GitHub\n",
    "\n",
    "The steps to solve this problem is similar to the previous one except that you need to find out the repository names instead of developer names."
   ]
  },
  {
   "cell_type": "code",
   "execution_count": 11,
   "metadata": {},
   "outputs": [],
   "source": [
    "# This is the url you will scrape in this exercise\n",
    "url = 'https://github.com/trending/python?since=daily'"
   ]
  },
  {
   "cell_type": "code",
   "execution_count": 12,
   "metadata": {},
   "outputs": [],
   "source": [
    "#your code\n",
    "html = requests.get(url).content"
   ]
  },
  {
   "cell_type": "code",
   "execution_count": 13,
   "metadata": {},
   "outputs": [],
   "source": [
    "soup = BeautifulSoup(html, 'lxml')\n",
    "h1 = soup.find_all('h1', {'class':'h3 lh-condensed'})"
   ]
  },
  {
   "cell_type": "code",
   "execution_count": 14,
   "metadata": {},
   "outputs": [],
   "source": [
    "proyectos = [algo.text.replace(\"\\n\", \"\") for algo in h1]"
   ]
  },
  {
   "cell_type": "code",
   "execution_count": 15,
   "metadata": {},
   "outputs": [
    {
     "data": {
      "text/plain": [
       "['gto76 / python-cheatsheet ',\n",
       " 'j3ssie / Osmedeus ',\n",
       " 'tangzixiang0304 / Shielded_detector ',\n",
       " 'uber / ludwig ',\n",
       " 'xinshuoweng / AB3DMOT ',\n",
       " 'NVlabs / stylegan ',\n",
       " 'dagster-io / dagster ',\n",
       " 'tensorflow / models ',\n",
       " 'eragonruan / text-detection-ctpn ',\n",
       " 'sherlock-project / sherlock ',\n",
       " 'deepfakes / faceswap ',\n",
       " 'nbei / Deep-Flow-Guided-Video-Inpainting ',\n",
       " 'iovisor / bcc ',\n",
       " 'Roibal / Cryptocurrency-Trading-Bots-Python-Beginner-Advance ',\n",
       " 'NVIDIA / DeepLearningExamples ',\n",
       " 'BlackHC / tfpyth ',\n",
       " 'clovaai / deep-text-recognition-benchmark ',\n",
       " 'tkat0 / PyTorch_BlazeFace ',\n",
       " 'OpenMined / PySyft ',\n",
       " 'CoreyMSchafer / code_snippets ',\n",
       " 'public-apis / public-apis ',\n",
       " 'd2l-ai / d2l-zh ',\n",
       " 'apache / airflow ',\n",
       " 'beecost / bee-university ',\n",
       " 'sundowndev / PhoneInfoga ']"
      ]
     },
     "execution_count": 15,
     "metadata": {},
     "output_type": "execute_result"
    }
   ],
   "source": [
    "proyectos"
   ]
  },
  {
   "cell_type": "markdown",
   "metadata": {},
   "source": [
    "#### Display all the image links from Walt Disney wikipedia page"
   ]
  },
  {
   "cell_type": "code",
   "execution_count": 16,
   "metadata": {},
   "outputs": [],
   "source": [
    "# This is the url you will scrape in this exercise\n",
    "url = 'https://en.wikipedia.org/wiki/Walt_Disney'"
   ]
  },
  {
   "cell_type": "code",
   "execution_count": null,
   "metadata": {},
   "outputs": [],
   "source": [
    "#your code"
   ]
  },
  {
   "cell_type": "markdown",
   "metadata": {},
   "source": [
    "#### Retrieve an arbitary Wikipedia page of \"Python\" and create a list of links on that page"
   ]
  },
  {
   "cell_type": "code",
   "execution_count": 17,
   "metadata": {},
   "outputs": [],
   "source": [
    "# This is the url you will scrape in this exercise\n",
    "url ='https://en.wikipedia.org/wiki/Python'\n",
    "html = requests.get(url).content"
   ]
  },
  {
   "cell_type": "code",
   "execution_count": 18,
   "metadata": {},
   "outputs": [
    {
     "data": {
      "text/plain": [
       "[<ul><li><a href=\"/wiki/Pythonidae\" title=\"Pythonidae\">Pythonidae</a>, a family of nonvenomous snakes found in Africa, Asia, and Australia known as pythons\n",
       " <ul><li><a href=\"/wiki/Python_(genus)\" title=\"Python (genus)\"><i>Python</i> (genus)</a>, of nonvenomous Pythonidae found in Africa and Asia</li></ul></li></ul>,\n",
       " <ul><li><a href=\"/wiki/Python_(genus)\" title=\"Python (genus)\"><i>Python</i> (genus)</a>, of nonvenomous Pythonidae found in Africa and Asia</li></ul>,\n",
       " <ul><li><a href=\"/wiki/Python_(mythology)\" title=\"Python (mythology)\">Python (mythology)</a>, a serpent, the earth-dragon of Delphi</li>\n",
       " <li><a href=\"/wiki/Python_of_Aenus\" title=\"Python of Aenus\">Python of Aenus</a> (4th-century BCE), student of Plato</li>\n",
       " <li><a href=\"/wiki/Python_(painter)\" title=\"Python (painter)\">Python (painter)</a>, (ca. 360-320 BCE) vase painter in Poseidonia</li>\n",
       " <li><a href=\"/wiki/Python_of_Byzantium\" title=\"Python of Byzantium\">Python of Byzantium</a>, orator, diplomat of Philip II of Macedon</li>\n",
       " <li><a href=\"/wiki/Python_of_Catana\" title=\"Python of Catana\">Python of Catana</a>, poet who accompanied Alexander the Great</li></ul>,\n",
       " <ul><li><a href=\"/wiki/Python_(film)\" title=\"Python (film)\"><i>Python</i> (film)</a>, a 2000 horror film by Richard Clabaugh\n",
       " <ul><li><i><a href=\"/wiki/Pythons_2\" title=\"Pythons 2\">Pythons 2</a></i>, or <i>Python II</i>, a 2002 sequel to <i>Python</i></li></ul></li>\n",
       " <li>The Pythons, or <a href=\"/wiki/Monty_Python\" title=\"Monty Python\">Monty Python</a>, a British comedy group\n",
       " <ul><li><a href=\"/wiki/Python_(Monty)_Pictures\" title=\"Python (Monty) Pictures\">Python (Monty) Pictures</a>, a company owned by the troupe's surviving members</li></ul></li></ul>,\n",
       " <ul><li><i><a href=\"/wiki/Pythons_2\" title=\"Pythons 2\">Pythons 2</a></i>, or <i>Python II</i>, a 2002 sequel to <i>Python</i></li></ul>,\n",
       " <ul><li><a href=\"/wiki/Python_(Monty)_Pictures\" title=\"Python (Monty) Pictures\">Python (Monty) Pictures</a>, a company owned by the troupe's surviving members</li></ul>,\n",
       " <ul><li><a href=\"/wiki/Python_(programming_language)\" title=\"Python (programming language)\">Python (programming language)</a>\n",
       " <ul><li><a href=\"/wiki/CPython\" title=\"CPython\">CPython</a>, the reference implementation of the Python programming language</li></ul></li>\n",
       " <li>Python, a native code compiler for <a href=\"/wiki/CMU_Common_Lisp\" title=\"CMU Common Lisp\">CMU Common Lisp</a></li>\n",
       " <li>Python, the internal project name for the <a href=\"/wiki/PERQ#PERQ_3\" title=\"PERQ\">PERQ 3</a> computer workstation</li></ul>,\n",
       " <ul><li><a href=\"/wiki/CPython\" title=\"CPython\">CPython</a>, the reference implementation of the Python programming language</li></ul>,\n",
       " <ul><li><a href=\"/wiki/Python_(Busch_Gardens_Tampa_Bay)\" title=\"Python (Busch Gardens Tampa Bay)\">Python (Busch Gardens Tampa Bay)</a>, a defunct roller coaster at Busch Gardens Africa</li>\n",
       " <li><a href=\"/wiki/Python_(Coney_Island,_Cincinnati,_Ohio)\" title=\"Python (Coney Island, Cincinnati, Ohio)\">Python (Coney Island, Cincinnati, Ohio)</a>, a D.P.V. Rides designed Zyklon-style steel roller coaster that operated from 1996 to 1999 at Splash Zone Water Park but was relocated to Coney Island at the end of the 1999 season</li>\n",
       " <li><a href=\"/wiki/Python_(Efteling)\" title=\"Python (Efteling)\">Python (Efteling)</a>, a roller coaster in Efteling, the Netherlands</li></ul>,\n",
       " <ul><li><a href=\"/wiki/Python_(automobile_maker)\" title=\"Python (automobile maker)\">Python (automobile maker)</a>, an Australian car company</li>\n",
       " <li><a href=\"/wiki/Python_(Ford_prototype)\" title=\"Python (Ford prototype)\">Python (Ford prototype)</a>, a Ford prototype sports car</li></ul>,\n",
       " <ul><li><a href=\"/wiki/Colt_Python\" title=\"Colt Python\">Colt Python</a>, a revolver</li>\n",
       " <li><a href=\"/wiki/Python_(missile)\" title=\"Python (missile)\">Python (missile)</a>, a series of Israeli air-to-air missiles</li>\n",
       " <li><a href=\"/wiki/Python_(nuclear_primary)\" title=\"Python (nuclear primary)\">Python (nuclear primary)</a>, a gas-boosted fission primary used in thermonuclear weapons</li></ul>,\n",
       " <ul><li><a href=\"/wiki/Python_Anghelo\" title=\"Python Anghelo\">Python Anghelo</a> (1954–2014) Romanian graphic artist</li></ul>]"
      ]
     },
     "execution_count": 18,
     "metadata": {},
     "output_type": "execute_result"
    }
   ],
   "source": [
    "#your code\n",
    "soup = BeautifulSoup(html, 'lxml')\n",
    "ul = soup.find_all('ul')\n",
    "ul= ul[2:14]"
   ]
  },
  {
   "cell_type": "code",
   "execution_count": 19,
   "metadata": {},
   "outputs": [
    {
     "data": {
      "text/plain": [
       "['/wiki/Pythonidae',\n",
       " '/wiki/Python_(genus)',\n",
       " '/wiki/Python_(genus)',\n",
       " '/wiki/Python_(mythology)',\n",
       " '/wiki/Python_of_Aenus',\n",
       " '/wiki/Python_(painter)',\n",
       " '/wiki/Python_of_Byzantium',\n",
       " '/wiki/Python_of_Catana',\n",
       " '/wiki/Python_(film)',\n",
       " '/wiki/Pythons_2',\n",
       " '/wiki/Monty_Python',\n",
       " '/wiki/Python_(Monty)_Pictures',\n",
       " '/wiki/Pythons_2',\n",
       " '/wiki/Python_(Monty)_Pictures',\n",
       " '/wiki/Python_(programming_language)',\n",
       " '/wiki/CPython',\n",
       " '/wiki/CMU_Common_Lisp',\n",
       " '/wiki/PERQ#PERQ_3',\n",
       " '/wiki/CPython',\n",
       " '/wiki/Python_(Busch_Gardens_Tampa_Bay)',\n",
       " '/wiki/Python_(Coney_Island,_Cincinnati,_Ohio)',\n",
       " '/wiki/Python_(Efteling)',\n",
       " '/wiki/Python_(automobile_maker)',\n",
       " '/wiki/Python_(Ford_prototype)',\n",
       " '/wiki/Colt_Python',\n",
       " '/wiki/Python_(missile)',\n",
       " '/wiki/Python_(nuclear_primary)',\n",
       " '/wiki/Python_Anghelo']"
      ]
     },
     "execution_count": 19,
     "metadata": {},
     "output_type": "execute_result"
    }
   ],
   "source": [
    "l = [img['href'] for i in range(len(ul)) for img in (ul[i].find_all('a', href=True)) ] \n",
    "l"
   ]
  },
  {
   "cell_type": "markdown",
   "metadata": {},
   "source": [
    "#### Number of Titles that have changed in the United States Code since its last release point "
   ]
  },
  {
   "cell_type": "code",
   "execution_count": 20,
   "metadata": {},
   "outputs": [],
   "source": [
    "# This is the url you will scrape in this exercise\n",
    "url = 'http://uscode.house.gov/download/download.shtml'\n",
    "html = requests.get(url).content"
   ]
  },
  {
   "cell_type": "code",
   "execution_count": 21,
   "metadata": {},
   "outputs": [],
   "source": [
    "#your code\n",
    "soup = BeautifulSoup(html, 'lxml')\n",
    "#soup\n",
    "titles = soup.find_all('div', {'class':'usctitlechanged'})"
   ]
  },
  {
   "cell_type": "code",
   "execution_count": 22,
   "metadata": {},
   "outputs": [
    {
     "data": {
      "text/plain": [
       "15"
      ]
     },
     "execution_count": 22,
     "metadata": {},
     "output_type": "execute_result"
    }
   ],
   "source": [
    "len(titles)"
   ]
  },
  {
   "cell_type": "markdown",
   "metadata": {},
   "source": [
    "#### A Python list with the top ten FBI's Most Wanted names "
   ]
  },
  {
   "cell_type": "code",
   "execution_count": 23,
   "metadata": {},
   "outputs": [],
   "source": [
    "# This is the url you will scrape in this exercise\n",
    "url = 'https://www.fbi.gov/wanted/topten'\n",
    "html = requests.get(url).content"
   ]
  },
  {
   "cell_type": "code",
   "execution_count": 24,
   "metadata": {},
   "outputs": [],
   "source": [
    "#your code \n",
    "soup = BeautifulSoup(html, 'lxml')\n",
    "titles = soup.find_all('h3', {'class':'title'})"
   ]
  },
  {
   "cell_type": "code",
   "execution_count": 26,
   "metadata": {},
   "outputs": [
    {
     "data": {
      "text/plain": [
       "['ALEJANDRO ROSALES CASTILLO',\n",
       " 'YASER ABDEL SAID',\n",
       " 'JASON DEREK BROWN',\n",
       " 'RAFAEL CARO-QUINTERO',\n",
       " 'ALEXIS FLORES',\n",
       " 'EUGENE PALMER',\n",
       " 'SANTIAGO VILLALBA MEDEROS',\n",
       " 'ROBERT WILLIAM FISHER',\n",
       " 'BHADRESHKUMAR CHETANBHAI PATEL',\n",
       " 'ARNOLDO JIMENEZ']"
      ]
     },
     "execution_count": 26,
     "metadata": {},
     "output_type": "execute_result"
    }
   ],
   "source": [
    "buscados = [nombre.text.replace(\"\\n\", \"\") for nombre in titles]\n",
    "buscados"
   ]
  },
  {
   "cell_type": "markdown",
   "metadata": {},
   "source": [
    "####  20 latest earthquakes info (date, time, latitude, longitude and region name) by the EMSC as a pandas dataframe"
   ]
  },
  {
   "cell_type": "code",
   "execution_count": 27,
   "metadata": {},
   "outputs": [],
   "source": [
    "# This is the url you will scrape in this exercise\n",
    "url = 'https://www.emsc-csem.org/Earthquake/'\n",
    "html = requests.get(url).content"
   ]
  },
  {
   "cell_type": "code",
   "execution_count": 28,
   "metadata": {},
   "outputs": [],
   "source": [
    "#your code\n",
    "soup = BeautifulSoup(html, 'lxml')\n",
    "\n",
    "datetime = soup.find_all('td', {'class':'tabev6'})\n",
    "lyl = soup.find_all('td', {'class':'tabev1'})\n",
    "region = soup.find_all('td', {'class':'tb_region'})"
   ]
  },
  {
   "cell_type": "code",
   "execution_count": 29,
   "metadata": {},
   "outputs": [],
   "source": [
    "limpdate =[str(fecha.text.replace('\\xa0', ' ')) for fecha in datetime]\n",
    "datefull = []\n",
    "for fecha in limpdate:\n",
    "    fecha = fecha.replace('earthquake', '')\n",
    "    fecha =fecha.replace('ago', '')\n",
    "    datefull.append(fecha)"
   ]
  },
  {
   "cell_type": "code",
   "execution_count": 30,
   "metadata": {},
   "outputs": [],
   "source": [
    "lat =[]\n",
    "lon = []\n",
    "for latlon in range(len(lyl)):\n",
    "    if latlon %2 == 0:\n",
    "        lat.append(lyl[latlon].text.replace('\\xa0', ''))\n",
    "    else:\n",
    "        lon.append(lyl[latlon].text.replace('\\xa0', ''))"
   ]
  },
  {
   "cell_type": "code",
   "execution_count": 31,
   "metadata": {},
   "outputs": [],
   "source": [
    "lugar =[fecha.text for fecha in region]"
   ]
  },
  {
   "cell_type": "code",
   "execution_count": 32,
   "metadata": {},
   "outputs": [],
   "source": [
    "df = pd.DataFrame({'Date and time':datefull, 'Latitud':lat, 'Longitud':lon, 'Region':lugar})"
   ]
  },
  {
   "cell_type": "code",
   "execution_count": 33,
   "metadata": {},
   "outputs": [
    {
     "data": {
      "text/html": [
       "<div>\n",
       "<style scoped>\n",
       "    .dataframe tbody tr th:only-of-type {\n",
       "        vertical-align: middle;\n",
       "    }\n",
       "\n",
       "    .dataframe tbody tr th {\n",
       "        vertical-align: top;\n",
       "    }\n",
       "\n",
       "    .dataframe thead th {\n",
       "        text-align: right;\n",
       "    }\n",
       "</style>\n",
       "<table border=\"1\" class=\"dataframe\">\n",
       "  <thead>\n",
       "    <tr style=\"text-align: right;\">\n",
       "      <th></th>\n",
       "      <th>Date and time</th>\n",
       "      <th>Latitud</th>\n",
       "      <th>Longitud</th>\n",
       "      <th>Region</th>\n",
       "    </tr>\n",
       "  </thead>\n",
       "  <tbody>\n",
       "    <tr>\n",
       "      <th>0</th>\n",
       "      <td>2019-07-16   21:06:21.515min</td>\n",
       "      <td>35.88</td>\n",
       "      <td>117.69</td>\n",
       "      <td>CENTRAL CALIFORNIA</td>\n",
       "    </tr>\n",
       "    <tr>\n",
       "      <th>1</th>\n",
       "      <td>2019-07-16   21:03:36.718min</td>\n",
       "      <td>37.81</td>\n",
       "      <td>121.76</td>\n",
       "      <td>SAN FRANCISCO BAY AREA, CALIF.</td>\n",
       "    </tr>\n",
       "    <tr>\n",
       "      <th>2</th>\n",
       "      <td>2019-07-16   20:52:18.629min</td>\n",
       "      <td>36.07</td>\n",
       "      <td>117.84</td>\n",
       "      <td>CENTRAL CALIFORNIA</td>\n",
       "    </tr>\n",
       "    <tr>\n",
       "      <th>3</th>\n",
       "      <td>2019-07-16   20:49:09.132min</td>\n",
       "      <td>36.07</td>\n",
       "      <td>117.65</td>\n",
       "      <td>CENTRAL CALIFORNIA</td>\n",
       "    </tr>\n",
       "    <tr>\n",
       "      <th>4</th>\n",
       "      <td>2019-07-16   20:41:11.040min</td>\n",
       "      <td>16.85</td>\n",
       "      <td>100.25</td>\n",
       "      <td>OFFSHORE GUERRERO, MEXICO</td>\n",
       "    </tr>\n",
       "    <tr>\n",
       "      <th>5</th>\n",
       "      <td>2019-07-16   20:33:52.948min</td>\n",
       "      <td>40.09</td>\n",
       "      <td>19.91</td>\n",
       "      <td>ALBANIA</td>\n",
       "    </tr>\n",
       "    <tr>\n",
       "      <th>6</th>\n",
       "      <td>2019-07-16   20:31:33.350min</td>\n",
       "      <td>23.45</td>\n",
       "      <td>66.86</td>\n",
       "      <td>JUJUY, ARGENTINA</td>\n",
       "    </tr>\n",
       "    <tr>\n",
       "      <th>7</th>\n",
       "      <td>2019-07-16   20:29:07.752min</td>\n",
       "      <td>35.86</td>\n",
       "      <td>117.69</td>\n",
       "      <td>CENTRAL CALIFORNIA</td>\n",
       "    </tr>\n",
       "    <tr>\n",
       "      <th>8</th>\n",
       "      <td>2019-07-16   20:23:34.758min</td>\n",
       "      <td>36.07</td>\n",
       "      <td>117.84</td>\n",
       "      <td>CENTRAL CALIFORNIA</td>\n",
       "    </tr>\n",
       "    <tr>\n",
       "      <th>9</th>\n",
       "      <td>2019-07-16   20:19:00.11hr 02min</td>\n",
       "      <td>33.10</td>\n",
       "      <td>12.42</td>\n",
       "      <td>MADEIRA ISLANDS, PORTUGAL REGION</td>\n",
       "    </tr>\n",
       "    <tr>\n",
       "      <th>10</th>\n",
       "      <td>2019-07-16   20:17:51.61hr 04min</td>\n",
       "      <td>35.55</td>\n",
       "      <td>117.43</td>\n",
       "      <td>SOUTHERN CALIFORNIA</td>\n",
       "    </tr>\n",
       "    <tr>\n",
       "      <th>11</th>\n",
       "      <td>2019-07-16   20:15:59.01hr 05min</td>\n",
       "      <td>35.68</td>\n",
       "      <td>117.52</td>\n",
       "      <td>SOUTHERN CALIFORNIA</td>\n",
       "    </tr>\n",
       "    <tr>\n",
       "      <th>12</th>\n",
       "      <td>2019-07-16   20:11:01.51hr 10min</td>\n",
       "      <td>37.82</td>\n",
       "      <td>121.77</td>\n",
       "      <td>SAN FRANCISCO BAY AREA, CALIF.</td>\n",
       "    </tr>\n",
       "    <tr>\n",
       "      <th>13</th>\n",
       "      <td>2019-07-16   19:51:06.51hr 30min</td>\n",
       "      <td>6.26</td>\n",
       "      <td>148.65</td>\n",
       "      <td>NEW BRITAIN REGION, P.N.G.</td>\n",
       "    </tr>\n",
       "    <tr>\n",
       "      <th>14</th>\n",
       "      <td>2019-07-16   19:42:25.91hr 39min</td>\n",
       "      <td>35.61</td>\n",
       "      <td>117.47</td>\n",
       "      <td>SOUTHERN CALIFORNIA</td>\n",
       "    </tr>\n",
       "    <tr>\n",
       "      <th>15</th>\n",
       "      <td>2019-07-16   19:35:57.01hr 46min</td>\n",
       "      <td>35.62</td>\n",
       "      <td>117.45</td>\n",
       "      <td>SOUTHERN CALIFORNIA</td>\n",
       "    </tr>\n",
       "    <tr>\n",
       "      <th>16</th>\n",
       "      <td>2019-07-16   19:23:50.11hr 58min</td>\n",
       "      <td>36.19</td>\n",
       "      <td>117.89</td>\n",
       "      <td>CENTRAL CALIFORNIA</td>\n",
       "    </tr>\n",
       "    <tr>\n",
       "      <th>17</th>\n",
       "      <td>2019-07-16   19:20:21.42hr 01min</td>\n",
       "      <td>38.39</td>\n",
       "      <td>16.94</td>\n",
       "      <td>SOUTHERN ITALY</td>\n",
       "    </tr>\n",
       "    <tr>\n",
       "      <th>18</th>\n",
       "      <td>2019-07-16   19:16:53.82hr 05min</td>\n",
       "      <td>38.45</td>\n",
       "      <td>16.91</td>\n",
       "      <td>SOUTHERN ITALY</td>\n",
       "    </tr>\n",
       "    <tr>\n",
       "      <th>19</th>\n",
       "      <td>2019-07-16   19:16:15.92hr 05min</td>\n",
       "      <td>61.27</td>\n",
       "      <td>152.44</td>\n",
       "      <td>SOUTHERN ALASKA</td>\n",
       "    </tr>\n",
       "  </tbody>\n",
       "</table>\n",
       "</div>"
      ],
      "text/plain": [
       "                        Date and time Latitud Longitud  \\\n",
       "0       2019-07-16   21:06:21.515min    35.88   117.69   \n",
       "1       2019-07-16   21:03:36.718min    37.81   121.76   \n",
       "2       2019-07-16   20:52:18.629min    36.07   117.84   \n",
       "3       2019-07-16   20:49:09.132min    36.07   117.65   \n",
       "4       2019-07-16   20:41:11.040min    16.85   100.25   \n",
       "5       2019-07-16   20:33:52.948min    40.09    19.91   \n",
       "6       2019-07-16   20:31:33.350min    23.45    66.86   \n",
       "7       2019-07-16   20:29:07.752min    35.86   117.69   \n",
       "8       2019-07-16   20:23:34.758min    36.07   117.84   \n",
       "9   2019-07-16   20:19:00.11hr 02min    33.10    12.42   \n",
       "10  2019-07-16   20:17:51.61hr 04min    35.55   117.43   \n",
       "11  2019-07-16   20:15:59.01hr 05min    35.68   117.52   \n",
       "12  2019-07-16   20:11:01.51hr 10min    37.82   121.77   \n",
       "13  2019-07-16   19:51:06.51hr 30min     6.26   148.65   \n",
       "14  2019-07-16   19:42:25.91hr 39min    35.61   117.47   \n",
       "15  2019-07-16   19:35:57.01hr 46min    35.62   117.45   \n",
       "16  2019-07-16   19:23:50.11hr 58min    36.19   117.89   \n",
       "17  2019-07-16   19:20:21.42hr 01min    38.39    16.94   \n",
       "18  2019-07-16   19:16:53.82hr 05min    38.45    16.91   \n",
       "19  2019-07-16   19:16:15.92hr 05min    61.27   152.44   \n",
       "\n",
       "                               Region  \n",
       "0                  CENTRAL CALIFORNIA  \n",
       "1      SAN FRANCISCO BAY AREA, CALIF.  \n",
       "2                  CENTRAL CALIFORNIA  \n",
       "3                  CENTRAL CALIFORNIA  \n",
       "4           OFFSHORE GUERRERO, MEXICO  \n",
       "5                             ALBANIA  \n",
       "6                    JUJUY, ARGENTINA  \n",
       "7                  CENTRAL CALIFORNIA  \n",
       "8                  CENTRAL CALIFORNIA  \n",
       "9    MADEIRA ISLANDS, PORTUGAL REGION  \n",
       "10                SOUTHERN CALIFORNIA  \n",
       "11                SOUTHERN CALIFORNIA  \n",
       "12     SAN FRANCISCO BAY AREA, CALIF.  \n",
       "13         NEW BRITAIN REGION, P.N.G.  \n",
       "14                SOUTHERN CALIFORNIA  \n",
       "15                SOUTHERN CALIFORNIA  \n",
       "16                 CENTRAL CALIFORNIA  \n",
       "17                     SOUTHERN ITALY  \n",
       "18                     SOUTHERN ITALY  \n",
       "19                    SOUTHERN ALASKA  "
      ]
     },
     "execution_count": 33,
     "metadata": {},
     "output_type": "execute_result"
    }
   ],
   "source": [
    "df.head(20)"
   ]
  },
  {
   "cell_type": "markdown",
   "metadata": {},
   "source": [
    "#### Display the date, and title of upcoming hackathon events as a Pandas dataframe table"
   ]
  },
  {
   "cell_type": "code",
   "execution_count": null,
   "metadata": {},
   "outputs": [],
   "source": [
    "# This is the url you will scrape in this exercise\n",
    "url ='https://hackevents.co/hackathons'"
   ]
  },
  {
   "cell_type": "code",
   "execution_count": null,
   "metadata": {},
   "outputs": [],
   "source": [
    "#your code"
   ]
  },
  {
   "cell_type": "markdown",
   "metadata": {},
   "source": [
    "#### Count number of tweets by a given Twitter account."
   ]
  },
  {
   "cell_type": "markdown",
   "metadata": {},
   "source": [
    "You will need to include a ***try/except block*** for account names not found. \n",
    "<br>***Hint:*** the program should count the number of tweets for any provided account"
   ]
  },
  {
   "cell_type": "code",
   "execution_count": null,
   "metadata": {},
   "outputs": [],
   "source": [
    "# This is the url you will scrape in this exercise \n",
    "# You will need to add the account credentials to this url\n",
    "url = 'https://twitter.com/'"
   ]
  },
  {
   "cell_type": "code",
   "execution_count": null,
   "metadata": {},
   "outputs": [],
   "source": [
    "#your code"
   ]
  },
  {
   "cell_type": "markdown",
   "metadata": {},
   "source": [
    "#### Number of followers of a given twitter account"
   ]
  },
  {
   "cell_type": "markdown",
   "metadata": {},
   "source": [
    "You will need to include a ***try/except block*** in case account/s name not found. \n",
    "<br>***Hint:*** the program should count the followers for any provided account"
   ]
  },
  {
   "cell_type": "code",
   "execution_count": null,
   "metadata": {},
   "outputs": [],
   "source": [
    "# This is the url you will scrape in this exercise \n",
    "# You will need to add the account credentials to this url\n",
    "url = 'https://twitter.com/'"
   ]
  },
  {
   "cell_type": "code",
   "execution_count": null,
   "metadata": {},
   "outputs": [],
   "source": [
    "#your code"
   ]
  },
  {
   "cell_type": "markdown",
   "metadata": {},
   "source": [
    "#### List all language names and number of related articles in the order they appear in wikipedia.org"
   ]
  },
  {
   "cell_type": "code",
   "execution_count": null,
   "metadata": {},
   "outputs": [],
   "source": [
    "# This is the url you will scrape in this exercise\n",
    "url = 'https://www.wikipedia.org/'"
   ]
  },
  {
   "cell_type": "code",
   "execution_count": null,
   "metadata": {},
   "outputs": [],
   "source": [
    "#your code"
   ]
  },
  {
   "cell_type": "markdown",
   "metadata": {},
   "source": [
    "#### A list with the different kind of datasets available in data.gov.uk "
   ]
  },
  {
   "cell_type": "code",
   "execution_count": null,
   "metadata": {},
   "outputs": [],
   "source": [
    "# This is the url you will scrape in this exercise\n",
    "url = 'https://data.gov.uk/'"
   ]
  },
  {
   "cell_type": "code",
   "execution_count": null,
   "metadata": {},
   "outputs": [],
   "source": [
    "#your code "
   ]
  },
  {
   "cell_type": "markdown",
   "metadata": {},
   "source": [
    "#### Top 10 languages by number of native speakers stored in a Pandas Dataframe"
   ]
  },
  {
   "cell_type": "code",
   "execution_count": null,
   "metadata": {},
   "outputs": [],
   "source": [
    "# This is the url you will scrape in this exercise\n",
    "url = 'https://en.wikipedia.org/wiki/List_of_languages_by_number_of_native_speakers'"
   ]
  },
  {
   "cell_type": "code",
   "execution_count": null,
   "metadata": {},
   "outputs": [],
   "source": [
    "#your code"
   ]
  },
  {
   "cell_type": "markdown",
   "metadata": {},
   "source": [
    "### BONUS QUESTIONS"
   ]
  },
  {
   "cell_type": "markdown",
   "metadata": {},
   "source": [
    "#### Scrape a certain number of tweets of a given Twitter account."
   ]
  },
  {
   "cell_type": "code",
   "execution_count": null,
   "metadata": {},
   "outputs": [],
   "source": [
    "# This is the url you will scrape in this exercise \n",
    "# You will need to add the account credentials to this url\n",
    "url = 'https://twitter.com/'"
   ]
  },
  {
   "cell_type": "code",
   "execution_count": null,
   "metadata": {},
   "outputs": [],
   "source": [
    "# your code"
   ]
  },
  {
   "cell_type": "markdown",
   "metadata": {},
   "source": [
    "#### IMDB's Top 250 data (movie name, Initial release, director name and stars) as a pandas dataframe"
   ]
  },
  {
   "cell_type": "code",
   "execution_count": null,
   "metadata": {},
   "outputs": [],
   "source": [
    "# This is the url you will scrape in this exercise \n",
    "url = 'https://www.imdb.com/chart/top'"
   ]
  },
  {
   "cell_type": "code",
   "execution_count": null,
   "metadata": {},
   "outputs": [],
   "source": [
    "#your code"
   ]
  },
  {
   "cell_type": "markdown",
   "metadata": {},
   "source": [
    "#### Find the live weather report (temperature, wind speed, description and weather) of a given city."
   ]
  },
  {
   "cell_type": "code",
   "execution_count": null,
   "metadata": {},
   "outputs": [],
   "source": [
    "#https://openweathermap.org/current\n",
    "city = city=input('Enter the city:')\n",
    "url = 'http://api.openweathermap.org/data/2.5/weather?'+'q='+city+'&APPID=b35975e18dc93725acb092f7272cc6b8&units=metric'"
   ]
  },
  {
   "cell_type": "code",
   "execution_count": null,
   "metadata": {},
   "outputs": [],
   "source": [
    "# your code"
   ]
  },
  {
   "cell_type": "markdown",
   "metadata": {},
   "source": [
    "#### Book name, price and stock availability as a pandas dataframe."
   ]
  },
  {
   "cell_type": "code",
   "execution_count": 34,
   "metadata": {},
   "outputs": [],
   "source": [
    "# This is the url you will scrape in this exercise. \n",
    "# It is a fictional bookstore created to be scraped. \n",
    "url = 'http://books.toscrape.com/'\n",
    "html = requests.get(url).content"
   ]
  },
  {
   "cell_type": "code",
   "execution_count": null,
   "metadata": {},
   "outputs": [],
   "source": [
    "#your code\n",
    "soup = BeautifulSoup(html, 'lxml')\n",
    "\n",
    "datetime = soup.find_all('td', {'class':'tabev6'})\n",
    "lyl = soup.find_all('td', {'class':'tabev1'})\n",
    "region = soup.find_all('td', {'class':'tb_region'})\n",
    "\n",
    "limpdate =[str(fecha.text.replace('\\xa0', ' ')) for fecha in datetime]\n",
    "datefull = []\n",
    "for fecha in limpdate:\n",
    "    fecha = fecha.replace('earthquake', '')\n",
    "    fecha =fecha.replace('ago', '')\n",
    "    datefull.append(fecha)\n",
    "    \n",
    "lat =[]\n",
    "lon = []\n",
    "for latlon in range(len(lyl)):\n",
    "    if latlon %2 == 0:\n",
    "        lat.append(lyl[latlon].text.replace('\\xa0', ''))\n",
    "    else:\n",
    "        lon.append(lyl[latlon].text.replace('\\xa0', ''))\n",
    "        \n",
    "lugar =[fecha.text for fecha in region]\n",
    "df = pd.DataFrame({'Date and time':datefull, 'Latitud':lat, 'Longitud':lon, 'Region':lugar})"
   ]
  },
  {
   "cell_type": "code",
   "execution_count": null,
   "metadata": {},
   "outputs": [],
   "source": []
  }
 ],
 "metadata": {
  "kernelspec": {
   "display_name": "Python 3",
   "language": "python",
   "name": "python3"
  },
  "language_info": {
   "codemirror_mode": {
    "name": "ipython",
    "version": 3
   },
   "file_extension": ".py",
   "mimetype": "text/x-python",
   "name": "python",
   "nbconvert_exporter": "python",
   "pygments_lexer": "ipython3",
   "version": "3.7.3"
  }
 },
 "nbformat": 4,
 "nbformat_minor": 2
}
